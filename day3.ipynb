{
 "cells": [
  {
   "cell_type": "markdown",
   "metadata": {},
   "source": [
    "# Day 3"
   ]
  },
  {
   "cell_type": "markdown",
   "metadata": {},
   "source": [
    "#### Starting at the top-left corner of your map and following a slope of right 3 and down 1, how many trees would you encounter?"
   ]
  },
  {
   "cell_type": "code",
   "execution_count": 72,
   "metadata": {},
   "outputs": [
    {
     "name": "stdout",
     "output_type": "stream",
     "text": [
      "['..#...##...###.........#..#..#.', '#.###........#..##.#......#...#', '#.#.###..#.#..#.#............#.', '.##............#......#...#.#..', '..#..#.....##..##..##..........']\n"
     ]
    }
   ],
   "source": [
    "data = []\n",
    "\n",
    "my_file = open(\"data/day3.txt\", \"r\") \n",
    "content_list = my_file.readlines() \n",
    "for row in range(len(content_list)):\n",
    "#     print(content_list[row])\n",
    "    data.append(content_list[row][:-1])\n",
    "    \n",
    "print(data[0:5])"
   ]
  },
  {
   "cell_type": "code",
   "execution_count": 83,
   "metadata": {},
   "outputs": [],
   "source": [
    "def trees(data,x,y):\n",
    "    curr_y = 0\n",
    "    curr_x = 0\n",
    "    counter = 0\n",
    "    while curr_y < len(data):\n",
    "        if data[curr_y][curr_x % len(data[0])] == '#':\n",
    "            counter += 1\n",
    "        curr_y += y\n",
    "        curr_x += x\n",
    "   \n",
    "    return counter"
   ]
  },
  {
   "cell_type": "code",
   "execution_count": 84,
   "metadata": {},
   "outputs": [
    {
     "data": {
      "text/plain": [
       "205"
      ]
     },
     "execution_count": 84,
     "metadata": {},
     "output_type": "execute_result"
    }
   ],
   "source": [
    "trees(data,3,1)"
   ]
  },
  {
   "cell_type": "code",
   "execution_count": 103,
   "metadata": {},
   "outputs": [],
   "source": [
    "def multi_slope(lst):\n",
    "    result = 1\n",
    "    for i in range(len(lst)):\n",
    "#         print(lst[i])\n",
    "        result *= trees(data,lst[i][0],lst[i][1])\n",
    "    \n",
    "    return result"
   ]
  },
  {
   "cell_type": "code",
   "execution_count": 104,
   "metadata": {},
   "outputs": [
    {
     "data": {
      "text/plain": [
       "3952146825"
      ]
     },
     "execution_count": 104,
     "metadata": {},
     "output_type": "execute_result"
    }
   ],
   "source": [
    "lst = [[1,1],[3,1],[5,1],[7,1],[1,2]]\n",
    "\n",
    "multi_slope(lst)"
   ]
  }
 ],
 "metadata": {
  "kernelspec": {
   "display_name": "Python 3",
   "language": "python",
   "name": "python3"
  },
  "language_info": {
   "codemirror_mode": {
    "name": "ipython",
    "version": 3
   },
   "file_extension": ".py",
   "mimetype": "text/x-python",
   "name": "python",
   "nbconvert_exporter": "python",
   "pygments_lexer": "ipython3",
   "version": "3.7.9"
  }
 },
 "nbformat": 4,
 "nbformat_minor": 4
}
