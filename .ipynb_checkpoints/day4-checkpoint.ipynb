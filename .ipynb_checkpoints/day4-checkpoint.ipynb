{
 "cells": [
  {
   "cell_type": "markdown",
   "metadata": {},
   "source": [
    "# Day 4"
   ]
  },
  {
   "cell_type": "markdown",
   "metadata": {},
   "source": [
    "#### In your batch file, how many passports are valid?"
   ]
  },
  {
   "cell_type": "code",
   "execution_count": 54,
   "metadata": {},
   "outputs": [
    {
     "name": "stdout",
     "output_type": "stream",
     "text": [
      "eyr:2028 iyr:2016 byr:1995 ecl:oth\n"
     ]
    }
   ],
   "source": [
    "content_list = open(\"data/day4.txt\", \"r\").read().splitlines()\n",
    "print(content_list[0])"
   ]
  },
  {
   "cell_type": "code",
   "execution_count": null,
   "metadata": {},
   "outputs": [],
   "source": [
    "def validate(key):\n",
    "    if k"
   ]
  },
  {
   "cell_type": "code",
   "execution_count": 55,
   "metadata": {},
   "outputs": [],
   "source": [
    "def check_valid(doc):\n",
    "    keys = ['eyr','iyr','byr','ecl','pid','hcl','hgt']\n",
    "    \n",
    "    if all(k in doc for k in keys):\n",
    "        if validate(): return True else: return False\n",
    "    else:\n",
    "        return False\n",
    "    \n",
    "    def validate():\n",
    "        check = 0\n",
    "        if (int(doc['eyr'])>=2020) and (int(doc['eyr'])=<2030):\n",
    "            check+=1\n",
    "        if (int(doc['iyr'])>=2010) and (int(doc['iyr'])=<2020):\n",
    "            check+=1\n",
    "        if (int(doc['byr'])>=1920) and (int(doc['byr'])=<2002):\n",
    "            check+=1\n",
    "        if doc['ecl'] in ['amb', 'blu', 'brn', 'gry', 'grn', 'hzl', 'oth']:\n",
    "            check+=1\n",
    "        if len(doc['pid']) == 9\n",
    "            check+=1\n",
    "        if re.match('^#[a-zA-Z0-9]{6}$',doc['hcl'])\n",
    "            check+=1\n",
    "        if hgt\n",
    "            check+=1\n",
    "        if check = 7\n",
    "            return True\n",
    "        else:\n",
    "            return False\n",
    "        ^#[a-zA-Z0-9]{6}$\n",
    "        \n",
    "byr (Birth Year) - four digits; at least 1920 and at most 2002.\n",
    "iyr (Issue Year) - four digits; at least 2010 and at most 2020.\n",
    "eyr (Expiration Year) - four digits; at least 2020 and at most 2030.\n",
    "hgt (Height) - a number followed by either cm or in:\n",
    "If cm, the number must be at least 150 and at most 193.\n",
    "If in, the number must be at least 59 and at most 76.\n",
    "hcl (Hair Color) - a # followed by exactly six characters 0-9 or a-f.\n",
    "ecl (Eye Color) - exactly one of: amb blu brn gry grn hzl oth.\n",
    "pid (Passport ID) - a nine-digit number, including leading zeroes.\n",
    "cid (Country ID) - ignored, missing or not."
   ]
  },
  {
   "cell_type": "code",
   "execution_count": 56,
   "metadata": {},
   "outputs": [
    {
     "name": "stdout",
     "output_type": "stream",
     "text": [
      "256\n"
     ]
    }
   ],
   "source": [
    "valid = 0\n",
    "doc = {}\n",
    "\n",
    "for row in range(len(content_list)):\n",
    "    if content_list[row] != \"\":\n",
    "        items = content_list[row].split()\n",
    "        for i in range(len(items)):\n",
    "            key,val = items[i].split()[0].split(':')\n",
    "            doc[key] = val\n",
    "#         print(doc)\n",
    "    else:\n",
    "#         print(doc)\n",
    "        if check_valid(doc): valid+=1\n",
    "        doc = {}\n",
    "\n",
    "print(valid)\n"
   ]
  },
  {
   "cell_type": "code",
   "execution_count": null,
   "metadata": {},
   "outputs": [],
   "source": []
  }
 ],
 "metadata": {
  "kernelspec": {
   "display_name": "Python 3",
   "language": "python",
   "name": "python3"
  },
  "language_info": {
   "codemirror_mode": {
    "name": "ipython",
    "version": 3
   },
   "file_extension": ".py",
   "mimetype": "text/x-python",
   "name": "python",
   "nbconvert_exporter": "python",
   "pygments_lexer": "ipython3",
   "version": "3.7.9"
  }
 },
 "nbformat": 4,
 "nbformat_minor": 4
}
