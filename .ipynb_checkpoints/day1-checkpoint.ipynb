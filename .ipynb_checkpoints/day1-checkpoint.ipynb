{
 "cells": [
  {
   "cell_type": "markdown",
   "metadata": {},
   "source": [
    "# Day 1"
   ]
  },
  {
   "cell_type": "markdown",
   "metadata": {},
   "source": [
    "#### Find the two entries that sum to 2020; what do you get if you multiply them together?"
   ]
  },
  {
   "cell_type": "code",
   "execution_count": 1,
   "metadata": {},
   "outputs": [],
   "source": [
    "from urllib.request import urlopen"
   ]
  },
  {
   "cell_type": "code",
   "execution_count": 2,
   "metadata": {},
   "outputs": [
    {
     "name": "stdout",
     "output_type": "stream",
     "text": [
      "[1837, 1585, 1894, 1715, 1947, 1603, 1746, 1911, 1939, 1791, 1800, 1479, 1138, 1810, 1931, 1833, 1470, 1882, 1725, 1496, 1890, 1862, 1990, 1958, 1997, 1844, 1524, 541, 2001, 1591, 1687, 1941, 1940, 1561, 1813, 1654, 1500, 1575, 1826, 2006, 679, 1660, 1679, 1631, 2008, 575, 1583, 1883, 1904, 1436, 1650, 1532, 1907, 1803, 1693, 1700, 359, 1516, 1625, 1908, 1994, 1910, 1644, 1706, 1781, 1639, 1662, 1712, 1796, 1915, 1550, 1721, 1697, 1917, 1665, 1646, 1968, 1881, 1893, 1468, 1678, 1774, 285, 1754, 1856, 1677, 1823, 1802, 1681, 1587, 1767, 1711, 1900, 1983, 1787, 1996, 1726, 1982, 1971, 1553, 1542, 1863, 2002, 1831, 1891, 1555, 2000, 1847, 1783, 1873, 1761, 1742, 1534, 1993, 1898, 1973, 1974, 1597, 1540, 1581, 1864, 1452, 1637, 1649, 1886, 1965, 1460, 1664, 1701, 1647, 1812, 1937, 1902, 2004, 1991, 1718, 1887, 1606, 1748, 1737, 1608, 1641, 1710, 1724, 705, 1985, 1571, 1805, 131, 1788, 1707, 1513, 1615, 1897, 1476, 1927, 1745, 1926, 1839, 1807, 1955, 1692, 1645, 1699, 1471, 1604, 1830, 1622, 1972, 1866, 1814, 1816, 1855, 1820, 1034, 1673, 1704, 1969, 1580, 1980, 1739, 1896, 434, 497, 1851, 1933, 458, 1521, 1551, 1762, 2010, 1614, 1840, 1747, 1875, 1836, 1895, 1518, 1825, 198]\n"
     ]
    }
   ],
   "source": [
    "data = []\n",
    "\n",
    "my_file = open(\"data/day1.txt\", \"r\") \n",
    "content_list = my_file.readlines() \n",
    "for row in range(len(content_list)):\n",
    "    data.append(int(content_list[row][:-1]))\n",
    "    \n",
    "print(data)"
   ]
  },
  {
   "cell_type": "code",
   "execution_count": 3,
   "metadata": {},
   "outputs": [
    {
     "name": "stdout",
     "output_type": "stream",
     "text": [
      "1479 541\n",
      "800139\n"
     ]
    }
   ],
   "source": [
    "answer = 0\n",
    "\n",
    "for i in range(len(data)):\n",
    "    for j in range(len(data)):\n",
    "        if data[i] + data[j] == 2020:\n",
    "            print(data[i], data[j])\n",
    "            answer = data[i] * data[j]\n",
    "            print(answer)\n",
    "            break\n",
    "    else:\n",
    "        continue\n",
    "    break"
   ]
  }
 ],
 "metadata": {
  "kernelspec": {
   "display_name": "Python 3",
   "language": "python",
   "name": "python3"
  },
  "language_info": {
   "codemirror_mode": {
    "name": "ipython",
    "version": 3
   },
   "file_extension": ".py",
   "mimetype": "text/x-python",
   "name": "python",
   "nbconvert_exporter": "python",
   "pygments_lexer": "ipython3",
   "version": "3.7.9"
  }
 },
 "nbformat": 4,
 "nbformat_minor": 4
}
