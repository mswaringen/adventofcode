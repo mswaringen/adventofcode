{
 "cells": [
  {
   "cell_type": "markdown",
   "metadata": {},
   "source": [
    "# Day 8"
   ]
  },
  {
   "cell_type": "markdown",
   "metadata": {},
   "source": [
    "#### Run your copy of the boot code. Immediately before any instruction is executed a second time, what value is in the accumulator?"
   ]
  },
  {
   "cell_type": "code",
   "execution_count": 1,
   "metadata": {
    "scrolled": true
   },
   "outputs": [],
   "source": [
    "data = open(\"data/day8.txt\", \"r\").read().splitlines()\n",
    "print(data[0])"
   ]
  },
  {
   "cell_type": "code",
   "execution_count": 2,
   "metadata": {},
   "outputs": [],
   "source": [
    "idx_data = []\n",
    "for i in range(len(data)):\n",
    "    idx_data .append([i,data[i]])\n",
    "print(idx_data[:10])"
   ]
  },
  {
   "cell_type": "code",
   "execution_count": 3,
   "metadata": {},
   "outputs": [],
   "source": [
    "def split_values(val):\n",
    "    op, val = val.split(\" \")\n",
    "    sign = val[0]\n",
    "    val = val[1:]\n",
    "    return(op,sign,val)"
   ]
  },
  {
   "cell_type": "code",
   "execution_count": 4,
   "metadata": {},
   "outputs": [],
   "source": [
    "hist = []\n",
    "def calc_score(idx_data):\n",
    "    score = 0\n",
    "    i = 0\n",
    "    # for i in range(len(idx_data )):\n",
    "    while True:\n",
    "        if i in hist:\n",
    "            break\n",
    "        else:\n",
    "            hist.append(i)\n",
    "\n",
    "        op,sign,val = split_values(idx_data[i][1])\n",
    "\n",
    "        if sign == '-':\n",
    "            val = -1 * int(val)\n",
    "        else:\n",
    "            val = int(val)\n",
    "\n",
    "        if op == 'acc':\n",
    "            score += val\n",
    "\n",
    "#         print(i,op,val,score)\n",
    "        \n",
    "        if i == len(idx_data)+1:\n",
    "            break\n",
    "            \n",
    "        if op == 'jmp':\n",
    "            i += val\n",
    "        else:\n",
    "            i+=1\n",
    "        \n",
    "        \n",
    "\n",
    "    print(\"final score\",score)  "
   ]
  },
  {
   "cell_type": "code",
   "execution_count": 5,
   "metadata": {},
   "outputs": [
    {
     "name": "stdout",
     "output_type": "stream",
     "text": [
      "final score 1797\n"
     ]
    }
   ],
   "source": [
    "calc_score(idx_data)"
   ]
  },
  {
   "cell_type": "code",
   "execution_count": 6,
   "metadata": {},
   "outputs": [
    {
     "name": "stdout",
     "output_type": "stream",
     "text": [
      "fixed: nop -76\n"
     ]
    }
   ],
   "source": [
    "hist.sort()\n",
    "biggest_idx = hist[-1]\n",
    "bug = idx_data[biggest_idx][1]\n",
    "op,sign,val = split_values(idx_data[biggest_idx][1])\n",
    "if op == 'jmp':\n",
    "    op = 'nop'\n",
    "else:\n",
    "    op = 'jmp'\n",
    "fixed_bug = op+\" \"+sign+val\n",
    "idx_data[biggest_idx][1] = fixed_bug\n",
    "print('fixed:',fixed_bug)\n",
    "hist=[]"
   ]
  },
  {
   "cell_type": "code",
   "execution_count": 7,
   "metadata": {
    "scrolled": true
   },
   "outputs": [
    {
     "name": "stdout",
     "output_type": "stream",
     "text": [
      "final score 776\n"
     ]
    }
   ],
   "source": [
    "calc_score(idx_data)"
   ]
  }
 ],
 "metadata": {
  "kernelspec": {
   "display_name": "Python 3",
   "language": "python",
   "name": "python3"
  },
  "language_info": {
   "codemirror_mode": {
    "name": "ipython",
    "version": 3
   },
   "file_extension": ".py",
   "mimetype": "text/x-python",
   "name": "python",
   "nbconvert_exporter": "python",
   "pygments_lexer": "ipython3",
   "version": "3.7.9"
  }
 },
 "nbformat": 4,
 "nbformat_minor": 4
}
