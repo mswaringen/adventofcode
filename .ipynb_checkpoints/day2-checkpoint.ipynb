{
 "cells": [
  {
   "cell_type": "markdown",
   "metadata": {},
   "source": [
    "# Day 2"
   ]
  },
  {
   "cell_type": "markdown",
   "metadata": {},
   "source": [
    "#### How many passwords are valid according to their policies?"
   ]
  },
  {
   "cell_type": "code",
   "execution_count": 5,
   "metadata": {},
   "outputs": [],
   "source": [
    "import re"
   ]
  },
  {
   "cell_type": "code",
   "execution_count": 6,
   "metadata": {},
   "outputs": [
    {
     "name": "stdout",
     "output_type": "stream",
     "text": [
      "['6-8 b: bbbnvbbb', '6-10 z: zhzzzzfzzzzzzzzzpzz', '9-13 s: dmssskssqsssssf', '5-6 v: hvvgvrm']\n"
     ]
    }
   ],
   "source": [
    "data = []\n",
    "\n",
    "my_file = open(\"data/day2.txt\", \"r\") \n",
    "content_list = my_file.readlines() \n",
    "for row in range(len(content_list)):\n",
    "#     print(content_list[row])\n",
    "    data.append(content_list[row][:-1])\n",
    "    \n",
    "print(data[1:5])"
   ]
  },
  {
   "cell_type": "code",
   "execution_count": 7,
   "metadata": {},
   "outputs": [
    {
     "name": "stdout",
     "output_type": "stream",
     "text": [
      "393\n"
     ]
    }
   ],
   "source": [
    "## Part 1\n",
    "\n",
    "valid = 0\n",
    "\n",
    "for i in range(len(data)):\n",
    "    match = re.search(r'^(.*?)\\-(.*?)\\s(.+?)\\:(.*)', data[i])\n",
    "    \n",
    "    min_char = int(match.group(1))\n",
    "    max_char = int(match.group(2))\n",
    "    req_char = match.group(3)\n",
    "    pwd = match.group(4)\n",
    "    \n",
    "    count = pwd.count(req_char)\n",
    "    if (count >= min_char) & (count <= max_char):\n",
    "        valid += 1\n",
    "\n",
    "print(valid)"
   ]
  },
  {
   "cell_type": "code",
   "execution_count": 8,
   "metadata": {},
   "outputs": [
    {
     "name": "stdout",
     "output_type": "stream",
     "text": [
      "690\n"
     ]
    }
   ],
   "source": [
    "## Part 2\n",
    "valid = 0\n",
    "\n",
    "for i in range(len(data)):\n",
    "    match = re.search(r'^(.*?)\\-(.*?)\\s(.+?)\\:(.*)', data[i])\n",
    "    \n",
    "    min_char = int(match.group(1))\n",
    "    max_char = int(match.group(2))\n",
    "    req_char = match.group(3)\n",
    "    pwd = match.group(4)\n",
    "        \n",
    "    idx = [i for i in range(len(pwd)) if pwd.startswith(req_char, i)] \n",
    "    \n",
    "    if (min_char in idx) ^ (max_char in idx):\n",
    "        valid += 1\n",
    "\n",
    "print(valid)"
   ]
  }
 ],
 "metadata": {
  "kernelspec": {
   "display_name": "Python 3",
   "language": "python",
   "name": "python3"
  },
  "language_info": {
   "codemirror_mode": {
    "name": "ipython",
    "version": 3
   },
   "file_extension": ".py",
   "mimetype": "text/x-python",
   "name": "python",
   "nbconvert_exporter": "python",
   "pygments_lexer": "ipython3",
   "version": "3.7.9"
  }
 },
 "nbformat": 4,
 "nbformat_minor": 4
}
