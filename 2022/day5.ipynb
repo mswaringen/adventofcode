{
 "cells": [
  {
   "cell_type": "markdown",
   "metadata": {},
   "source": [
    "# AOC 2022 - day 5"
   ]
  },
  {
   "cell_type": "code",
   "execution_count": 1,
   "metadata": {},
   "outputs": [
    {
     "name": "stdout",
     "output_type": "stream",
     "text": [
      "512\n"
     ]
    }
   ],
   "source": [
    "# Data Import\n",
    "\n",
    "data = open(\"data/day5.txt\", \"r\").read().splitlines()\n",
    "\n",
    "# for i in range(len(data)):\n",
    "#     data[i] = int(data[i])\n",
    "    \n",
    "# data = data[:20]\n",
    "# print(data, len(data))\n",
    "print(len(data))"
   ]
  },
  {
   "cell_type": "code",
   "execution_count": 2,
   "metadata": {},
   "outputs": [
    {
     "name": "stdout",
     "output_type": "stream",
     "text": [
      "['[P]     [L]         [T]            ', '[L]     [M] [G]     [G]     [S]    ', '[M]     [Q] [W]     [H] [R] [G]    ', '[N]     [F] [M]     [D] [V] [R] [N]', '[W]     [G] [Q] [P] [J] [F] [M] [C]', '[V] [H] [B] [F] [H] [M] [B] [H] [B]', '[B] [Q] [D] [T] [T] [B] [N] [L] [D]', '[H] [M] [N] [Z] [M] [C] [M] [P] [P]', ' 1   2   3   4   5   6   7   8   9 ']\n"
     ]
    }
   ],
   "source": [
    "index = data.index('')\n",
    "split_data = [data[:index], data[index + 1:]]\n",
    "\n",
    "crates, instr = split_data[0], split_data[1]\n",
    "print(crates)\n",
    "# print(instr)"
   ]
  },
  {
   "cell_type": "code",
   "execution_count": 3,
   "metadata": {},
   "outputs": [
    {
     "name": "stdout",
     "output_type": "stream",
     "text": [
      "9\n",
      "[1, 2, 3, 4, 5, 6, 7, 8, 9]\n"
     ]
    }
   ],
   "source": [
    "stack_count = int(crates[-1][-2])\n",
    "print(stack_count)\n",
    "stack_idx = list(range(1,stack_count+1))\n",
    "print(stack_idx)"
   ]
  },
  {
   "cell_type": "code",
   "execution_count": 4,
   "metadata": {},
   "outputs": [
    {
     "name": "stdout",
     "output_type": "stream",
     "text": [
      "['[P]     [L]         [T]            ', '[L]     [M] [G]     [G]     [S]    ', '[M]     [Q] [W]     [H] [R] [G]    ', '[N]     [F] [M]     [D] [V] [R] [N]', '[W]     [G] [Q] [P] [J] [F] [M] [C]', '[V] [H] [B] [F] [H] [M] [B] [H] [B]', '[B] [Q] [D] [T] [T] [B] [N] [L] [D]', '[H] [M] [N] [Z] [M] [C] [M] [P] [P]']\n",
      "[[], [], [], [], [], [], [], [], []]\n"
     ]
    }
   ],
   "source": [
    "crates.pop(-1)\n",
    "print(crates)\n",
    "\n",
    "stacks = []\n",
    "for i in list(range(1,stack_count+1)):\n",
    "    stacks.append([])\n",
    "    \n",
    "print(stacks)"
   ]
  },
  {
   "cell_type": "code",
   "execution_count": 5,
   "metadata": {},
   "outputs": [
    {
     "name": "stdout",
     "output_type": "stream",
     "text": [
      "[['P', 'L', 'M', 'N', 'W', 'V', 'B', 'H'], ['H', 'Q', 'M'], ['L', 'M', 'Q', 'F', 'G', 'B', 'D', 'N'], ['G', 'W', 'M', 'Q', 'F', 'T', 'Z'], ['P', 'H', 'T', 'M'], ['T', 'G', 'H', 'D', 'J', 'M', 'B', 'C'], ['R', 'V', 'F', 'B', 'N', 'M'], ['S', 'G', 'R', 'M', 'H', 'L', 'P'], ['N', 'C', 'B', 'D', 'P']]\n"
     ]
    }
   ],
   "source": [
    "# count = 1 \n",
    "# for row in crates:\n",
    "#     print('row', count)\n",
    "#     print('1',row[1])\n",
    "#     print('5',row[5])\n",
    "#     print('9', row[9])\n",
    "#     count+=1\n",
    "    \n",
    "# for row in crates:\n",
    "#     if row[1] != \" \":\n",
    "#         stacks[0].append(row[1])\n",
    "#     if row[5] != ' ':\n",
    "#         stacks[1].append(row[5])\n",
    "#     if row[9] != ' ':\n",
    "#         stacks[2].append(row[9])\n",
    "        \n",
    "        \n",
    "for row in crates:\n",
    "    if row[1] != \" \":\n",
    "        stacks[0].append(row[1])\n",
    "    if row[5] != ' ':\n",
    "        stacks[1].append(row[5])\n",
    "    if row[9] != ' ':\n",
    "        stacks[2].append(row[9])\n",
    "    if row[13] != ' ':\n",
    "        stacks[3].append(row[13])\n",
    "    if row[17] != ' ':\n",
    "        stacks[4].append(row[17])\n",
    "    if row[21] != ' ':\n",
    "        stacks[5].append(row[21])\n",
    "    if row[25] != ' ':\n",
    "        stacks[6].append(row[25])\n",
    "    if row[29] != ' ':\n",
    "        stacks[7].append(row[29])\n",
    "    if row[33] != ' ':\n",
    "        stacks[8].append(row[33])\n",
    "    \n",
    "\n",
    "\n",
    "print(stacks)"
   ]
  },
  {
   "cell_type": "code",
   "execution_count": 6,
   "metadata": {},
   "outputs": [
    {
     "name": "stdout",
     "output_type": "stream",
     "text": [
      "[['H', 'B', 'V', 'W', 'N', 'M', 'L', 'P'], ['M', 'Q', 'H'], ['N', 'D', 'B', 'G', 'F', 'Q', 'M', 'L'], ['Z', 'T', 'F', 'Q', 'M', 'W', 'G'], ['M', 'T', 'H', 'P'], ['C', 'B', 'M', 'J', 'D', 'H', 'G', 'T'], ['M', 'N', 'B', 'F', 'V', 'R'], ['P', 'L', 'H', 'M', 'R', 'G', 'S'], ['P', 'D', 'B', 'C', 'N']]\n"
     ]
    }
   ],
   "source": [
    "\n",
    "for stack in stacks:\n",
    "    stack.reverse()\n",
    "print(stacks)"
   ]
  },
  {
   "cell_type": "code",
   "execution_count": 7,
   "metadata": {},
   "outputs": [
    {
     "name": "stdout",
     "output_type": "stream",
     "text": [
      "[[8, 3, 2], [1, 9, 5], [5, 4, 7], [6, 1, 4], [8, 6, 8], [8, 4, 5], [4, 9, 5], [4, 7, 9], [7, 7, 2], [4, 5, 2], [1, 1, 8, 3], [3, 9, 7], [1, 1, 2, 8], [1, 3, 8, 4], [1, 1, 5, 6], [8, 2, 4], [1, 5, 4], [1, 3, 2], [2, 2, 1], [2, 8, 5], [3, 7, 5], [1, 4, 7], [9, 6, 7], [1, 6, 5], [1, 1, 4], [3, 1, 9], [1, 5, 4, 3], [2, 4, 1], [1, 1, 9], [3, 4, 5], [1, 4, 1], [1, 7, 2], [1, 6, 3], [5, 7, 1], [1, 9, 3, 9], [7, 1, 2], [2, 4, 9, 7], [2, 3, 7, 1], [1, 4, 6], [3, 7, 3], [1, 6, 1], [6, 2, 1], [2, 1, 1, 9], [5, 3, 8], [2, 2, 5], [1, 0, 9, 5], [1, 2, 1], [5, 1, 3], [6, 3, 4], [1, 2, 8], [3, 5, 2], [4, 9, 3], [1, 3, 5, 9], [2, 7, 2], [3, 4, 7], [1, 7, 8], [5, 1, 3], [1, 7, 5], [1, 8, 1], [2, 2, 7], [1, 9, 9, 2], [5, 2, 3], [7, 5, 9], [1, 1, 9], [5, 9, 2], [4, 9, 3], [2, 0, 3, 9], [1, 3, 9], [3, 7, 3], [1, 6, 2, 3], [1, 2, 3, 4], [2, 2, 5], [1, 2, 4], [2, 4, 1], [4, 8, 1], [1, 5, 9, 3], [2, 5, 3], [3, 2, 8], [5, 8, 5], [7, 3, 4], [2, 9, 6], [1, 5, 3, 1], [3, 1, 8], [3, 9, 5], [9, 4, 1], [3, 3, 5], [2, 6, 5], [9, 1, 3], [1, 9, 4], [1, 5, 2], [3, 8, 5], [1, 0, 1, 6], [1, 2, 4, 8], [1, 2, 7], [2, 5, 6], [1, 1, 4], [7, 3, 6], [1, 7, 2], [2, 4, 9], [3, 1, 7], [1, 9, 8], [1, 2, 3], [3, 1, 7], [5, 8, 2], [5, 7, 1], [9, 6, 8], [6, 6, 9], [8, 8, 6], [1, 7, 4], [5, 2, 4], [7, 5, 1], [5, 8, 9], [1, 1, 6, 7], [9, 9, 1], [2, 7, 5], [1, 9, 5], [1, 3, 6], [3, 4, 6], [1, 8, 2], [2, 3, 6], [6, 5, 2], [3, 5, 9], [3, 2, 1], [1, 4, 3], [3, 2, 7], [1, 8, 9], [1, 2, 8], [8, 7, 5], [1, 7, 8], [3, 5, 6], [5, 5, 2], [1, 4, 1], [1, 3, 2], [4, 1, 5], [4, 2, 6], [6, 1, 2], [5, 9, 3], [2, 5, 3], [3, 3, 6], [1, 0, 6, 4], [4, 8, 5], [5, 5, 1], [2, 1, 1, 7], [3, 2, 9], [1, 5, 2], [4, 2, 9], [8, 4, 8], [1, 2, 1], [7, 8, 2], [2, 6, 1], [2, 1, 5], [1, 1, 5], [4, 3, 7], [1, 9, 3], [4, 6, 3], [1, 3, 8], [1, 3, 4], [2, 2, 6], [2, 9, 7], [1, 4, 7, 8], [1, 0, 8, 7], [3, 4, 6], [5, 2, 3], [3, 9, 8], [3, 3, 4], [1, 2, 4], [1, 9, 4], [1, 9, 5], [1, 5, 2], [3, 5, 7], [1, 4, 6], [5, 3, 8], [1, 6, 8], [5, 7, 6], [1, 4, 8, 5], [2, 6, 7], [1, 8, 7, 2], [3, 6, 1], [5, 5, 4], [5, 6, 2], [7, 2, 1], [1, 8, 4], [1, 5, 1], [8, 1, 9], [1, 0, 4, 3], [8, 5, 3], [1, 4, 3], [2, 1, 5], [1, 5, 3], [5, 3, 1], [1, 1, 3], [5, 1, 6], [1, 3, 3, 1], [3, 9, 4], [2, 9, 6], [5, 6, 5], [6, 5, 1], [7, 7, 9], [7, 9, 6], [1, 9, 3], [1, 7, 9], [3, 9, 1], [1, 2, 2, 7], [7, 6, 2], [2, 2, 1, 7], [1, 6, 5], [4, 7, 6], [1, 5, 6], [2, 4, 1], [1, 4, 1], [2, 3, 7, 9], [4, 6, 2], [4, 7, 3], [1, 1, 9], [6, 2, 1], [1, 7, 2], [7, 2, 8], [2, 3, 8], [3, 1, 9], [1, 2, 8], [5, 8, 3], [3, 2, 1], [2, 7, 8], [1, 0, 9, 8], [4, 1, 3], [1, 4, 3, 4], [7, 4, 5], [1, 6, 9], [5, 5, 8], [1, 6, 4], [6, 9, 4], [3, 8, 4], [1, 5, 1], [3, 4, 3], [9, 4, 3], [5, 3, 6], [5, 1, 5], [4, 6, 2], [8, 9, 2], [2, 6, 5], [3, 4, 7], [2, 2, 7], [2, 5, 4], [3, 5, 9], [3, 4, 2], [1, 0, 2, 5], [1, 9, 8], [2, 2, 9], [3, 7, 2], [1, 2, 9], [1, 3, 5, 1], [2, 2, 7], [8, 9, 2], [1, 4, 6], [1, 9, 5], [1, 4, 8, 4], [7, 4, 5], [4, 7, 5], [2, 3, 8], [4, 1, 5], [2, 5, 4], [6, 5, 6], [7, 2, 5], [1, 2, 6], [1, 5, 2], [2, 2, 8], [2, 1, 3], [8, 4, 7], [1, 4, 3], [6, 1, 6], [7, 3, 9], [3, 7, 1], [2, 8, 7], [7, 6, 9], [2, 3, 6], [6, 8, 3], [9, 5, 3], [2, 7, 8], [2, 6, 4], [7, 6, 9], [5, 3, 8], [1, 0, 9, 1], [1, 1, 1, 8], [1, 3, 2], [4, 5, 6], [2, 6, 2], [2, 7, 9], [3, 1, 7], [6, 3, 9], [2, 7, 2], [2, 6, 9], [1, 5, 9], [1, 1, 9, 8], [1, 4, 5], [6, 9, 8], [3, 1, 8, 9], [1, 3, 6], [1, 7, 1], [1, 4, 3], [1, 5, 2], [1, 1, 8], [1, 8, 9], [1, 7, 3], [1, 1, 9, 6], [2, 3, 1], [2, 3, 5], [1, 5, 4], [1, 4, 1], [6, 8, 3], [1, 1, 4], [1, 4, 6], [2, 3, 6], [1, 7, 9, 2], [2, 3, 2, 9], [1, 4, 9, 4], [1, 1, 7], [1, 5, 6], [8, 6, 2], [1, 3, 2], [4, 9, 8], [5, 4, 7], [3, 7, 2], [1, 1, 2], [2, 9, 4], [3, 6, 9], [8, 4, 9], [2, 4, 2], [4, 7, 2], [1, 7, 9], [4, 6, 2], [1, 6, 2, 1], [2, 3, 2], [1, 8, 9, 8], [1, 4, 2], [1, 6, 8], [1, 3, 9], [3, 9, 5], [4, 9, 8], [6, 2, 8], [1, 5, 1], [4, 2, 8], [1, 5, 1], [1, 7, 1, 4], [1, 5, 8], [1, 0, 4, 3], [1, 0, 3, 1], [4, 4, 9], [1, 4, 6], [1, 4, 8], [3, 8, 8, 1], [2, 7, 1, 5], [1, 8, 2], [1, 6, 3], [1, 4, 8], [1, 8, 4], [1, 4, 1, 9], [1, 3, 1], [1, 5, 1], [1, 2, 5], [2, 5, 4], [1, 7, 5, 8], [3, 4, 9], [2, 9, 1], [3, 5, 7], [3, 7, 4], [2, 4, 7], [1, 2, 1, 4], [1, 7, 4], [1, 7, 6], [1, 6, 9], [1, 1, 4, 3], [1, 5, 3], [1, 1, 3, 9], [1, 3, 2], [3, 5, 4], [1, 2, 4], [1, 5, 8], [1, 3, 9, 3], [1, 6, 9, 1], [4, 8, 9], [2, 1, 4], [1, 9, 1], [1, 9, 7], [1, 7, 2], [6, 8, 3], [8, 4, 2], [4, 9, 6], [3, 2, 3], [3, 6, 1], [3, 8, 6], [1, 6, 8], [3, 6, 4], [1, 1, 3, 5], [4, 8, 2], [6, 3, 5], [3, 5, 1], [2, 8, 3], [1, 4, 5, 3], [4, 3, 4], [6, 3, 5], [3, 2, 9], [4, 1, 8], [3, 9, 6], [2, 6, 9], [6, 4, 3], [1, 5, 1, 4], [1, 6, 7], [5, 5, 1], [1, 1, 3, 1], [2, 9, 7], [1, 5, 6], [2, 1, 3], [7, 2, 6], [4, 8, 1], [8, 4, 2], [3, 6, 4], [5, 1, 4], [1, 7, 4, 8], [3, 3, 7], [4, 3, 4], [4, 4, 2], [9, 8, 7], [1, 3, 8], [1, 0, 2, 4], [1, 6, 2], [2, 8, 4], [2, 6, 9], [2, 6, 2], [1, 2, 3], [3, 1, 4], [1, 3, 2], [1, 9, 3], [1, 9, 7], [4, 8, 4], [1, 0, 4, 8], [5, 4, 3], [1, 2, 8], [5, 3, 7], [3, 7, 8], [3, 4, 3], [8, 7, 2], [8, 7, 8], [1, 3, 2], [3, 2, 8], [9, 2, 5], [1, 2, 1, 7], [2, 1, 8, 3], [5, 8, 6], [8, 7, 5], [6, 7, 4], [1, 2, 5, 7], [1, 8, 5], [2, 4, 2], [1, 7, 6], [1, 4, 3, 8], [5, 6, 2], [7, 2, 6], [6, 8, 4], [1, 1, 7, 4], [8, 3, 7], [4, 5, 7], [9, 8, 2], [6, 4, 1], [2, 5, 2], [1, 7, 2], [1, 1, 2, 3], [1, 2, 1], [7, 4, 1], [5, 6, 8], [1, 2, 3], [2, 8, 7], [1, 4, 3, 7], [1, 5, 7, 6], [4, 4, 6], [2, 8, 3], [1, 2, 1, 3], [1, 8, 2], [1, 2, 3], [1, 3, 9], [1, 9, 7], [1, 1, 4], [1, 8, 6, 8], [3, 3, 2], [1, 7, 8, 3], [3, 7, 6], [3, 2, 6], [2, 5, 3, 7], [2, 4, 1], [9, 6, 5], [2, 3, 1], [1, 3, 9], [5, 5, 2], [1, 8, 3], [2, 4, 7], [1, 9, 4], [1, 6, 7], [2, 5, 2], [2, 4, 8], [2, 5, 8], [5, 7, 9], [2, 7, 7, 5], [2, 9, 6]]\n"
     ]
    }
   ],
   "source": [
    "import re\n",
    "\n",
    "instr_num = []\n",
    "for i in instr:\n",
    "    # print(i)\n",
    "    instr_num.append(list(map(int, re.findall(\"\\d\",i))))\n",
    "    \n",
    "print(instr_num)"
   ]
  },
  {
   "cell_type": "code",
   "execution_count": 8,
   "metadata": {},
   "outputs": [
    {
     "name": "stdout",
     "output_type": "stream",
     "text": [
      "[['H', 'B', 'V', 'W', 'N', 'M', 'L', 'P'], ['M', 'Q', 'H'], ['N', 'D', 'B', 'G', 'F', 'Q', 'M', 'L'], ['Z', 'T', 'F', 'Q', 'M', 'W', 'G'], ['M', 'T', 'H', 'P'], ['C', 'B', 'M', 'J', 'D', 'H', 'G', 'T'], ['M', 'N', 'B', 'F', 'V', 'R'], ['P', 'L', 'H', 'M', 'R', 'G', 'S'], ['P', 'D', 'B', 'C', 'N']]\n",
      "8 3 2\n",
      "[['H', 'B', 'V', 'W', 'N', 'M', 'L', 'P'], ['M', 'Q', 'H', 'L', 'M', 'Q', 'F', 'G', 'B', 'D', 'N'], [], ['Z', 'T', 'F', 'Q', 'M', 'W', 'G'], ['M', 'T', 'H', 'P'], ['C', 'B', 'M', 'J', 'D', 'H', 'G', 'T'], ['M', 'N', 'B', 'F', 'V', 'R'], ['P', 'L', 'H', 'M', 'R', 'G', 'S'], ['P', 'D', 'B', 'C', 'N']]\n",
      "1 9 5\n",
      "[['H', 'B', 'V', 'W', 'N', 'M', 'L', 'P'], ['M', 'Q', 'H', 'L', 'M', 'Q', 'F', 'G', 'B', 'D', 'N'], [], ['Z', 'T', 'F', 'Q', 'M', 'W', 'G'], ['M', 'T', 'H', 'P', 'N'], ['C', 'B', 'M', 'J', 'D', 'H', 'G', 'T'], ['M', 'N', 'B', 'F', 'V', 'R'], ['P', 'L', 'H', 'M', 'R', 'G', 'S'], ['P', 'D', 'B', 'C']]\n",
      "5 4 7\n",
      "[['H', 'B', 'V', 'W', 'N', 'M', 'L', 'P'], ['M', 'Q', 'H', 'L', 'M', 'Q', 'F', 'G', 'B', 'D', 'N'], [], ['Z', 'T'], ['M', 'T', 'H', 'P', 'N'], ['C', 'B', 'M', 'J', 'D', 'H', 'G', 'T'], ['M', 'N', 'B', 'F', 'V', 'R', 'G', 'W', 'M', 'Q', 'F'], ['P', 'L', 'H', 'M', 'R', 'G', 'S'], ['P', 'D', 'B', 'C']]\n",
      "6 1 4\n",
      "[['H', 'B'], ['M', 'Q', 'H', 'L', 'M', 'Q', 'F', 'G', 'B', 'D', 'N'], [], ['Z', 'T', 'P', 'L', 'M', 'N', 'W', 'V'], ['M', 'T', 'H', 'P', 'N'], ['C', 'B', 'M', 'J', 'D', 'H', 'G', 'T'], ['M', 'N', 'B', 'F', 'V', 'R', 'G', 'W', 'M', 'Q', 'F'], ['P', 'L', 'H', 'M', 'R', 'G', 'S'], ['P', 'D', 'B', 'C']]\n",
      "8 6 8\n",
      "[['H', 'B'], ['M', 'Q', 'H', 'L', 'M', 'Q', 'F', 'G', 'B', 'D', 'N'], [], ['Z', 'T', 'P', 'L', 'M', 'N', 'W', 'V'], ['M', 'T', 'H', 'P', 'N'], [], ['M', 'N', 'B', 'F', 'V', 'R', 'G', 'W', 'M', 'Q', 'F'], ['P', 'L', 'H', 'M', 'R', 'G', 'S', 'T', 'G', 'H', 'D', 'J', 'M', 'B', 'C'], ['P', 'D', 'B', 'C']]\n",
      "8 4 5\n",
      "[['H', 'B'], ['M', 'Q', 'H', 'L', 'M', 'Q', 'F', 'G', 'B', 'D', 'N'], [], [], ['M', 'T', 'H', 'P', 'N', 'V', 'W', 'N', 'M', 'L', 'P', 'T', 'Z'], [], ['M', 'N', 'B', 'F', 'V', 'R', 'G', 'W', 'M', 'Q', 'F'], ['P', 'L', 'H', 'M', 'R', 'G', 'S', 'T', 'G', 'H', 'D', 'J', 'M', 'B', 'C'], ['P', 'D', 'B', 'C']]\n",
      "4 9 5\n",
      "[['H', 'B'], ['M', 'Q', 'H', 'L', 'M', 'Q', 'F', 'G', 'B', 'D', 'N'], [], [], ['M', 'T', 'H', 'P', 'N', 'V', 'W', 'N', 'M', 'L', 'P', 'T', 'Z', 'C', 'B', 'D', 'P'], [], ['M', 'N', 'B', 'F', 'V', 'R', 'G', 'W', 'M', 'Q', 'F'], ['P', 'L', 'H', 'M', 'R', 'G', 'S', 'T', 'G', 'H', 'D', 'J', 'M', 'B', 'C'], []]\n",
      "4 7 9\n",
      "[['H', 'B'], ['M', 'Q', 'H', 'L', 'M', 'Q', 'F', 'G', 'B', 'D', 'N'], [], [], ['M', 'T', 'H', 'P', 'N', 'V', 'W', 'N', 'M', 'L', 'P', 'T', 'Z', 'C', 'B', 'D', 'P'], [], ['M', 'N', 'B', 'F', 'V', 'R', 'G'], ['P', 'L', 'H', 'M', 'R', 'G', 'S', 'T', 'G', 'H', 'D', 'J', 'M', 'B', 'C'], ['F', 'Q', 'M', 'W']]\n",
      "7 7 2\n",
      "[['H', 'B'], ['M', 'Q', 'H', 'L', 'M', 'Q', 'F', 'G', 'B', 'D', 'N', 'G', 'R', 'V', 'F', 'B', 'N', 'M'], [], [], ['M', 'T', 'H', 'P', 'N', 'V', 'W', 'N', 'M', 'L', 'P', 'T', 'Z', 'C', 'B', 'D', 'P'], [], [], ['P', 'L', 'H', 'M', 'R', 'G', 'S', 'T', 'G', 'H', 'D', 'J', 'M', 'B', 'C'], ['F', 'Q', 'M', 'W']]\n",
      "4 5 2\n",
      "[['H', 'B'], ['M', 'Q', 'H', 'L', 'M', 'Q', 'F', 'G', 'B', 'D', 'N', 'G', 'R', 'V', 'F', 'B', 'N', 'M', 'P', 'D', 'B', 'C'], [], [], ['M', 'T', 'H', 'P', 'N', 'V', 'W', 'N', 'M', 'L', 'P', 'T', 'Z'], [], [], ['P', 'L', 'H', 'M', 'R', 'G', 'S', 'T', 'G', 'H', 'D', 'J', 'M', 'B', 'C'], ['F', 'Q', 'M', 'W']]\n",
      "1 1 8\n",
      "[['H'], ['M', 'Q', 'H', 'L', 'M', 'Q', 'F', 'G', 'B', 'D', 'N', 'G', 'R', 'V', 'F', 'B', 'N', 'M', 'P', 'D', 'B', 'C'], [], [], ['M', 'T', 'H', 'P', 'N', 'V', 'W', 'N', 'M', 'L', 'P', 'T', 'Z'], [], [], ['P', 'L', 'H', 'M', 'R', 'G', 'S', 'T', 'G', 'H', 'D', 'J', 'M', 'B', 'C', 'B'], ['F', 'Q', 'M', 'W']]\n",
      "3 9 7\n",
      "[['H'], ['M', 'Q', 'H', 'L', 'M', 'Q', 'F', 'G', 'B', 'D', 'N', 'G', 'R', 'V', 'F', 'B', 'N', 'M', 'P', 'D', 'B', 'C'], [], [], ['M', 'T', 'H', 'P', 'N', 'V', 'W', 'N', 'M', 'L', 'P', 'T', 'Z'], [], ['W', 'M', 'Q'], ['P', 'L', 'H', 'M', 'R', 'G', 'S', 'T', 'G', 'H', 'D', 'J', 'M', 'B', 'C', 'B'], ['F']]\n",
      "1 1 2\n",
      "[[], ['M', 'Q', 'H', 'L', 'M', 'Q', 'F', 'G', 'B', 'D', 'N', 'G', 'R', 'V', 'F', 'B', 'N', 'M', 'P', 'D', 'B', 'C', 'H'], [], [], ['M', 'T', 'H', 'P', 'N', 'V', 'W', 'N', 'M', 'L', 'P', 'T', 'Z'], [], ['W', 'M', 'Q'], ['P', 'L', 'H', 'M', 'R', 'G', 'S', 'T', 'G', 'H', 'D', 'J', 'M', 'B', 'C', 'B'], ['F']]\n",
      "1 3 8\n"
     ]
    },
    {
     "ename": "IndexError",
     "evalue": "pop from empty list",
     "output_type": "error",
     "traceback": [
      "\u001b[0;31m---------------------------------------------------------------------------\u001b[0m",
      "\u001b[0;31mIndexError\u001b[0m                                Traceback (most recent call last)",
      "Cell \u001b[0;32mIn[8], line 9\u001b[0m\n\u001b[1;32m      6\u001b[0m \u001b[39mprint\u001b[39m(qty,src,dest)\n\u001b[1;32m      8\u001b[0m \u001b[39mfor\u001b[39;00m each \u001b[39min\u001b[39;00m \u001b[39mlist\u001b[39m(\u001b[39mrange\u001b[39m(qty)):\n\u001b[0;32m----> 9\u001b[0m     val \u001b[39m=\u001b[39m stacks[src\u001b[39m-\u001b[39;49m\u001b[39m1\u001b[39;49m]\u001b[39m.\u001b[39;49mpop()\n\u001b[1;32m     10\u001b[0m     stacks[dest\u001b[39m-\u001b[39m\u001b[39m1\u001b[39m]\u001b[39m.\u001b[39mappend(val)\n\u001b[1;32m     12\u001b[0m \u001b[39mprint\u001b[39m(stacks)\n",
      "\u001b[0;31mIndexError\u001b[0m: pop from empty list"
     ]
    }
   ],
   "source": [
    "print(stacks)\n",
    "for row in instr_num:\n",
    "    qty = row[0]\n",
    "    src = row[1]\n",
    "    dest = row[2]\n",
    "    print(qty,src,dest)\n",
    "    \n",
    "    for each in list(range(qty)):\n",
    "        val = stacks[src-1].pop()\n",
    "        stacks[dest-1].append(val)\n",
    "    \n",
    "    print(stacks)\n",
    "\n",
    "result = '' \n",
    "for stack in stacks:\n",
    "        if stack:\n",
    "            result+=str(stack[-1])\n",
    "        \n",
    "print(result)"
   ]
  },
  {
   "cell_type": "code",
   "execution_count": null,
   "metadata": {},
   "outputs": [
    {
     "name": "stdout",
     "output_type": "stream",
     "text": [
      "[P]     [L]         [T]            \n",
      "[L]     [M] [G]     [G]     [S]    \n",
      "[M]     [Q] [W]     [H] [R] [G]    \n",
      "[N]     [F] [M]     [D] [V] [R] [N]\n",
      "[W]     [G] [Q] [P] [J] [F] [M] [C]\n",
      "[V] [H] [B] [F] [H] [M] [B] [H] [B]\n",
      "[B] [Q] [D] [T] [T] [B] [N] [L] [D]\n",
      "[H] [M] [N] [Z] [M] [C] [M] [P] [P]\n"
     ]
    }
   ],
   "source": [
    "\n",
    "\n",
    "for crate in crates:\n",
    "    print(crate)"
   ]
  },
  {
   "cell_type": "code",
   "execution_count": 9,
   "metadata": {},
   "outputs": [
    {
     "name": "stdout",
     "output_type": "stream",
     "text": [
      "Part 1: WHTLRMZRC\n",
      "Part 2: GMPMLWNMG\n"
     ]
    }
   ],
   "source": [
    "# Refactor\n",
    "\n",
    "import copy\n",
    "import re\n",
    "\n",
    "with open('data/day5.txt') as f:\n",
    "    # parse as { 1: ['A'], 2: ['B', 'C'] }\n",
    "    cargo = {\n",
    "        int(c[0]): [*filter(str.isalpha, c)]\n",
    "        for c in zip(*[*iter(f.readline, '\\n')][::-1])  # 90deg. turn clockwise\n",
    "        if c[0].isdigit()\n",
    "    }\n",
    "    # parse as [ [1, 2, 3], [2, 3, 1] ]\n",
    "    instructions = [\n",
    "        [*map(int, re.findall(r'\\d+', instr))]\n",
    "        for instr in f.readlines()\n",
    "    ]\n",
    "\n",
    "\n",
    "def solve(cargos, instr, direction):\n",
    "    for count, fr, to in instr:\n",
    "        cargos[to].extend(\n",
    "            [cargos[fr].pop() for _ in range(min(len(cargos[fr]), count))][::direction]\n",
    "        )\n",
    "\n",
    "    return ''.join(c[-1] for c in cargos.values() if c)\n",
    "\n",
    "\n",
    "print('Part 1:', solve(copy.deepcopy(cargo), instructions, 1))\n",
    "print('Part 2:', solve(copy.deepcopy(cargo), instructions, -1))\n",
    "\n",
    "# f.readline --> a generator, of sorts, that reads one line at a time\n",
    "\n",
    "# iter(f.readline, '\\n') --> yields one line at a time and knows to stop reading when it finds a '\\n'\n",
    "\n",
    "# *iter(f.readline, '\\n') --> unpacks generator as list. Same as 'for line in lines, read line'\n",
    "\n",
    "# *iter(f.readline, '\\n')][::-1] --> end brackets instruct to read lines last to first\n",
    "\n",
    "# *[*iter(f.readline, '\\n')][::-1] --> not valid on its own but creates a new instance of each list for each entry in original list\n",
    "\n",
    "# zip(*[*iter(f.readline, '\\n')][::-1] --> zips all lists together. This results in all chars from column one being together, all chars from column two being together, etc.\n",
    "\n",
    "# Now we just look for each item that starts with a number, grab only the letters, and put it in a dictionary\n",
    "\n",
    "# https://www.reddit.com/r/adventofcode/comments/zcxid5/comment/iz1bxad/?utm_source=share&utm_medium=web2x&context=3"
   ]
  },
  {
   "cell_type": "code",
   "execution_count": null,
   "metadata": {},
   "outputs": [],
   "source": []
  }
 ],
 "metadata": {
  "kernelspec": {
   "display_name": "Python 3.9.9 ('ipm_learning-TySYBDCQ')",
   "language": "python",
   "name": "python3"
  },
  "language_info": {
   "codemirror_mode": {
    "name": "ipython",
    "version": 3
   },
   "file_extension": ".py",
   "mimetype": "text/x-python",
   "name": "python",
   "nbconvert_exporter": "python",
   "pygments_lexer": "ipython3",
   "version": "3.9.9"
  },
  "orig_nbformat": 4,
  "vscode": {
   "interpreter": {
    "hash": "085c3b7ad4972dc21562df89feefbd0c5185daf2efc367107f7354ed5c28e639"
   }
  }
 },
 "nbformat": 4,
 "nbformat_minor": 2
}
