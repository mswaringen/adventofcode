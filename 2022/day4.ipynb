{
 "cells": [
  {
   "cell_type": "markdown",
   "metadata": {},
   "source": [
    "# AOC 2022 - Day 4"
   ]
  },
  {
   "cell_type": "code",
   "execution_count": 73,
   "metadata": {},
   "outputs": [
    {
     "name": "stdout",
     "output_type": "stream",
     "text": [
      "1000\n"
     ]
    }
   ],
   "source": [
    "# Data Import\n",
    "\n",
    "data = open(\"data/day4.txt\", \"r\").read().splitlines()\n",
    "\n",
    "# for i in range(len(data)):\n",
    "#     data[i] = int(data[i])\n",
    "    \n",
    "# print(data, len(data))\n",
    "print(len(data))"
   ]
  },
  {
   "cell_type": "code",
   "execution_count": 74,
   "metadata": {},
   "outputs": [],
   "source": [
    "# Clean data\n",
    "\n",
    "pairs = []\n",
    "for row in data:\n",
    "    # print(row)\n",
    "    new_pair = []\n",
    "    pair = row.split(',')\n",
    "    \n",
    "    start, end = pair[0].split('-')\n",
    "    start = int(start)\n",
    "    end = int(end)\n",
    "    elf1 = list(range(start, end+1))\n",
    "    new_pair.append(elf1)\n",
    "    \n",
    "    start, end = pair[1].split('-')\n",
    "    start = int(start)\n",
    "    end = int(end)\n",
    "    elf2 = list(range(start, end+1))\n",
    "    new_pair.append(elf2)\n",
    "    pairs.append(new_pair)\n",
    "    # print(new_pair)\n",
    "    \n",
    "# print(pairs)"
   ]
  },
  {
   "cell_type": "code",
   "execution_count": 75,
   "metadata": {},
   "outputs": [
    {
     "name": "stdout",
     "output_type": "stream",
     "text": [
      "511\n"
     ]
    }
   ],
   "source": [
    "# Part 1\n",
    "\n",
    "count = 0\n",
    "\n",
    "for pair in pairs:\n",
    "    lst1 = pair[0]\n",
    "    lst2 = pair[1]\n",
    "    \n",
    "    lst1_count = 0\n",
    "    for ele in lst1:\n",
    "        if ele in lst2:\n",
    "            lst1_count+=1\n",
    "    if lst1_count == len(lst1):\n",
    "        # print(True)\n",
    "        # print(lst1,lst2)\n",
    "        count+=1\n",
    "    else:        \n",
    "        lst2_count = 0\n",
    "        for ele in lst2:\n",
    "            if ele in lst1:\n",
    "                lst2_count+=1\n",
    "        if lst2_count == len(lst2):\n",
    "            # print(True)\n",
    "            # print(lst2,lst1)\n",
    "            count+=1   \n",
    "            \n",
    "print(count)"
   ]
  },
  {
   "cell_type": "code",
   "execution_count": 76,
   "metadata": {},
   "outputs": [
    {
     "name": "stdout",
     "output_type": "stream",
     "text": [
      "total overlap: 821\n"
     ]
    }
   ],
   "source": [
    "# Part 2\n",
    "\n",
    "count = 0\n",
    "\n",
    "for pair in pairs:\n",
    "    lst1 = pair[0]\n",
    "    lst2 = pair[1]\n",
    "    \n",
    "    for ele in lst1:\n",
    "        if ele in lst2:\n",
    "            # print(True)\n",
    "            # print(lst1,lst2)\n",
    "            count+=1\n",
    "            break\n",
    "    else:        \n",
    "        for ele in lst2:\n",
    "            if ele in lst1:\n",
    "                # print(True)\n",
    "                # print(lst2,lst1)\n",
    "                count+=1\n",
    "                break\n",
    "            \n",
    "print(\"total overlap:\",count)"
   ]
  }
 ],
 "metadata": {
  "kernelspec": {
   "display_name": "Python 3.9.9 ('ipm_learning-TySYBDCQ')",
   "language": "python",
   "name": "python3"
  },
  "language_info": {
   "codemirror_mode": {
    "name": "ipython",
    "version": 3
   },
   "file_extension": ".py",
   "mimetype": "text/x-python",
   "name": "python",
   "nbconvert_exporter": "python",
   "pygments_lexer": "ipython3",
   "version": "3.9.9"
  },
  "orig_nbformat": 4,
  "vscode": {
   "interpreter": {
    "hash": "085c3b7ad4972dc21562df89feefbd0c5185daf2efc367107f7354ed5c28e639"
   }
  }
 },
 "nbformat": 4,
 "nbformat_minor": 2
}
