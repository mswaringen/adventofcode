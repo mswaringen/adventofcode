{
 "cells": [
  {
   "cell_type": "markdown",
   "metadata": {},
   "source": [
    "# AOC 2022 - Day 1"
   ]
  },
  {
   "cell_type": "code",
   "execution_count": 47,
   "metadata": {},
   "outputs": [
    {
     "name": "stdout",
     "output_type": "stream",
     "text": [
      "['1000', '2000', '3000', '', '4000', '', '5000', '6000', '', '7000', '8000', '9000', '', '10000'] 14\n"
     ]
    }
   ],
   "source": [
    "# Data Import\n",
    "\n",
    "\n",
    "data = open(\"data/test1.txt\", \"r\").read().splitlines()\n",
    "\n",
    "# for i in range(len(data)):\n",
    "#     data[i] = int(data[i])\n",
    "    \n",
    "print(data, len(data))"
   ]
  },
  {
   "cell_type": "code",
   "execution_count": 51,
   "metadata": {},
   "outputs": [
    {
     "name": "stdout",
     "output_type": "stream",
     "text": [
      "single elf cal 1000\n",
      "max 0\n",
      "single elf cal 3000\n",
      "max 0\n",
      "single elf cal 6000\n",
      "max 0\n",
      "single elf cal 0\n",
      "max 6000\n",
      "single elf cal 4000\n",
      "max 6000\n",
      "single elf cal 0\n",
      "max 6000\n",
      "single elf cal 5000\n",
      "max 6000\n",
      "single elf cal 11000\n",
      "max 6000\n",
      "single elf cal 0\n",
      "max 11000\n",
      "single elf cal 7000\n",
      "max 11000\n",
      "single elf cal 15000\n",
      "max 11000\n",
      "single elf cal 24000\n",
      "max 11000\n",
      "single elf cal 0\n",
      "max 24000\n",
      "single elf cal 10000\n",
      "max 24000\n"
     ]
    }
   ],
   "source": [
    "# Part 1\n",
    "\n",
    "cal_count = 0\n",
    "max_cal_count = 0\n",
    "\n",
    "for row in data:\n",
    "    # print(row)\n",
    "    if row == '':\n",
    "        if cal_count > max_cal_count:\n",
    "            max_cal_count = cal_count\n",
    "        cal_count = 0\n",
    "    else:\n",
    "        cal_count += int(row)\n",
    "    print(\"single elf cal\",cal_count)\n",
    "    print(\"max\", max_cal_count)\n"
   ]
  },
  {
   "cell_type": "code",
   "execution_count": 45,
   "metadata": {},
   "outputs": [
    {
     "name": "stdout",
     "output_type": "stream",
     "text": [
      "[69501, 66606, 66239]\n",
      "202346\n"
     ]
    }
   ],
   "source": [
    "# Part 2\n",
    "\n",
    "cal_count = 0\n",
    "max_cal_count = 0\n",
    "top_elves = []\n",
    "\n",
    "for row in data:\n",
    "    # print(\"row\",row)\n",
    "    if row == '':\n",
    "        if cal_count > max_cal_count:\n",
    "            max_cal_count = cal_count\n",
    "            # print(\"NEW MAX\",max_cal_count)\n",
    "        top_elves.append(cal_count)\n",
    "        cal_count = 0\n",
    "    else:\n",
    "        cal_count += int(row)\n",
    "        # print(\"cal_count\",cal_count)\n",
    "top_elves.append(cal_count)\n",
    "\n",
    "# print(top_elves, sum(top_elves))\n",
    "top_elves.sort(reverse=True)\n",
    "# print(top_elves)\n",
    "print(top_elves[:3])\n",
    "print(sum(top_elves[:3]))"
   ]
  },
  {
   "cell_type": "markdown",
   "metadata": {},
   "source": []
  }
 ],
 "metadata": {
  "kernelspec": {
   "display_name": "Python 3.9.9 ('ipm_learning-TySYBDCQ')",
   "language": "python",
   "name": "python3"
  },
  "language_info": {
   "codemirror_mode": {
    "name": "ipython",
    "version": 3
   },
   "file_extension": ".py",
   "mimetype": "text/x-python",
   "name": "python",
   "nbconvert_exporter": "python",
   "pygments_lexer": "ipython3",
   "version": "3.9.9"
  },
  "orig_nbformat": 4,
  "vscode": {
   "interpreter": {
    "hash": "085c3b7ad4972dc21562df89feefbd0c5185daf2efc367107f7354ed5c28e639"
   }
  }
 },
 "nbformat": 4,
 "nbformat_minor": 2
}
