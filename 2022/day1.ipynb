{
 "cells": [
  {
   "cell_type": "markdown",
   "metadata": {},
   "source": [
    "# AOC 2022 - Day 1"
   ]
  },
  {
   "cell_type": "code",
   "execution_count": 43,
   "metadata": {},
   "outputs": [],
   "source": [
    "# Data Import\n",
    "\n",
    "data = open(\"data/day1.txt\", \"r\").read().splitlines()\n",
    "\n",
    "# for i in range(len(data)):\n",
    "#     data[i] = int(data[i])\n",
    "    \n",
    "# print(data, len(data))"
   ]
  },
  {
   "cell_type": "code",
   "execution_count": 44,
   "metadata": {},
   "outputs": [],
   "source": [
    "# Part 1\n",
    "\n",
    "cal_count = 0\n",
    "max_cal_count = 0\n",
    "for row in data:\n",
    "    if row == '':\n",
    "        if cal_count > max_cal_count:\n",
    "            max_cal_count = cal_count\n",
    "        cal_count = 0\n",
    "    else:\n",
    "        cal_count += int(row)\n"
   ]
  },
  {
   "cell_type": "code",
   "execution_count": 45,
   "metadata": {},
   "outputs": [
    {
     "name": "stdout",
     "output_type": "stream",
     "text": [
      "[69501, 66606, 66239]\n",
      "202346\n"
     ]
    }
   ],
   "source": [
    "# Part 2\n",
    "\n",
    "cal_count = 0\n",
    "max_cal_count = 0\n",
    "top_elves = []\n",
    "\n",
    "for row in data:\n",
    "    # print(\"row\",row)\n",
    "    if row == '':\n",
    "        if cal_count > max_cal_count:\n",
    "            max_cal_count = cal_count\n",
    "            # print(\"NEW MAX\",max_cal_count)\n",
    "        top_elves.append(cal_count)\n",
    "        cal_count = 0\n",
    "    else:\n",
    "        cal_count += int(row)\n",
    "        # print(\"cal_count\",cal_count)\n",
    "top_elves.append(cal_count)\n",
    "\n",
    "# print(top_elves, sum(top_elves))\n",
    "top_elves.sort(reverse=True)\n",
    "# print(top_elves)\n",
    "print(top_elves[:3])\n",
    "print(sum(top_elves[:3]))"
   ]
  },
  {
   "cell_type": "markdown",
   "metadata": {},
   "source": []
  }
 ],
 "metadata": {
  "kernelspec": {
   "display_name": "Python 3.9.9 ('ipm_learning-TySYBDCQ')",
   "language": "python",
   "name": "python3"
  },
  "language_info": {
   "codemirror_mode": {
    "name": "ipython",
    "version": 3
   },
   "file_extension": ".py",
   "mimetype": "text/x-python",
   "name": "python",
   "nbconvert_exporter": "python",
   "pygments_lexer": "ipython3",
   "version": "3.9.9"
  },
  "orig_nbformat": 4,
  "vscode": {
   "interpreter": {
    "hash": "085c3b7ad4972dc21562df89feefbd0c5185daf2efc367107f7354ed5c28e639"
   }
  }
 },
 "nbformat": 4,
 "nbformat_minor": 2
}
