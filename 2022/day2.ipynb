{
 "cells": [
  {
   "cell_type": "markdown",
   "metadata": {},
   "source": [
    "# AOC 2022 - Day 2"
   ]
  },
  {
   "cell_type": "code",
   "execution_count": 88,
   "metadata": {},
   "outputs": [
    {
     "name": "stdout",
     "output_type": "stream",
     "text": [
      "2500\n"
     ]
    }
   ],
   "source": [
    "# Data Import\n",
    "\n",
    "data = open(\"data/day2.txt\", \"r\").read().splitlines()\n",
    "\n",
    "# for i in range(len(data)):\n",
    "#     data[i] = int(data[i])\n",
    "    \n",
    "# print(data, len(data))\n",
    "print(len(data))"
   ]
  },
  {
   "cell_type": "code",
   "execution_count": 89,
   "metadata": {},
   "outputs": [],
   "source": [
    "# Process data\n",
    "rounds = []\n",
    "for row in data:\n",
    "    rounds.append(row.replace(\" \", \"\"))\n",
    "    # rounds.append(row.split(' '))\n",
    "    \n",
    "# print(rounds)"
   ]
  },
  {
   "cell_type": "code",
   "execution_count": 90,
   "metadata": {},
   "outputs": [],
   "source": [
    "\n",
    "# Scoring\n",
    "\n",
    "# A = Rock, 1\n",
    "# B = Paper, 2\n",
    "# C = Scissors, 3\n",
    "\n",
    "# X = Rock\n",
    "# Y = Paper\n",
    "# Z = Scissors\n",
    "\n",
    "# Win = 6\n",
    "# Draw = 3\n",
    "# Loss = 0\n",
    "\n",
    "# your shape + score = total\n",
    "\n",
    "X = 1\n",
    "Y = 2\n",
    "Z = 3\n",
    "\n",
    "W = 6\n",
    "D = 3\n",
    "L = 0\n",
    "\n",
    "AX = D\n",
    "AY = W\n",
    "AZ = L\n",
    "\n",
    "BX = L\n",
    "BY = D\n",
    "BZ = W\n",
    "\n",
    "CX = W\n",
    "CY = L\n",
    "CZ = D\n"
   ]
  },
  {
   "cell_type": "code",
   "execution_count": 91,
   "metadata": {},
   "outputs": [
    {
     "name": "stdout",
     "output_type": "stream",
     "text": [
      "14297\n"
     ]
    }
   ],
   "source": [
    "total_score = 0\n",
    "\n",
    "for round in rounds:\n",
    "    round_score = 0\n",
    "    \n",
    "    shape_point = locals()[round[1]]\n",
    "    result = locals()[round]\n",
    "    round_score = shape_point + result\n",
    "    total_score += round_score\n",
    "    # print(rounds[0],shape_point, round, result)\n",
    "    \n",
    "    # print(\"shape\", round[1], \"shape_point\", shape_point)\n",
    "    # print(\"result\", round, \"result_points\", result)\n",
    "    # print(\"round_score\", round_score, \"total_score\", total_score)\n",
    "    \n",
    "print(total_score)"
   ]
  },
  {
   "cell_type": "code",
   "execution_count": 92,
   "metadata": {},
   "outputs": [],
   "source": [
    "# Part 2\n",
    "\n",
    "# A = Rock, 1\n",
    "# B = Paper, 2\n",
    "# C = Scissors, 3\n",
    "\n",
    "# X = lose\n",
    "# Y = draw\n",
    "# Z = win\n",
    "\n",
    "X = 0\n",
    "Y = 3\n",
    "Z = 6\n",
    "\n",
    "A = 1\n",
    "B = 2\n",
    "C = 3\n",
    "\n",
    "AY = A\n",
    "BY = B\n",
    "CY = C\n",
    "\n",
    "AX = C\n",
    "BX = A\n",
    "CX = B\n",
    "\n",
    "AZ = B\n",
    "BZ = C\n",
    "CZ = A\n",
    "\n"
   ]
  },
  {
   "cell_type": "code",
   "execution_count": 93,
   "metadata": {},
   "outputs": [
    {
     "name": "stdout",
     "output_type": "stream",
     "text": [
      "total_score 10498\n"
     ]
    }
   ],
   "source": [
    "total_score = 0\n",
    "\n",
    "for round in rounds:\n",
    "    # print(round)\n",
    "    round_score = 0\n",
    "    shape_point = locals()[round]\n",
    "    result = locals()[round[1]]\n",
    "    round_score = shape_point + result\n",
    "    total_score += round_score\n",
    "    \n",
    "    # print(\"shape\", round[0], \"shape_point\", shape_point)\n",
    "    # print(\"result\", round[1], \"result_points\", result)\n",
    "    # print(\"round_score\", round_score, \"total_score\", total_score)\n",
    "    \n",
    "print(\"total_score\", total_score)"
   ]
  },
  {
   "cell_type": "code",
   "execution_count": null,
   "metadata": {},
   "outputs": [],
   "source": []
  },
  {
   "cell_type": "code",
   "execution_count": null,
   "metadata": {},
   "outputs": [],
   "source": []
  }
 ],
 "metadata": {
  "kernelspec": {
   "display_name": "Python 3.9.9 ('ipm_learning-TySYBDCQ')",
   "language": "python",
   "name": "python3"
  },
  "language_info": {
   "codemirror_mode": {
    "name": "ipython",
    "version": 3
   },
   "file_extension": ".py",
   "mimetype": "text/x-python",
   "name": "python",
   "nbconvert_exporter": "python",
   "pygments_lexer": "ipython3",
   "version": "3.9.9"
  },
  "orig_nbformat": 4,
  "vscode": {
   "interpreter": {
    "hash": "085c3b7ad4972dc21562df89feefbd0c5185daf2efc367107f7354ed5c28e639"
   }
  }
 },
 "nbformat": 4,
 "nbformat_minor": 2
}
