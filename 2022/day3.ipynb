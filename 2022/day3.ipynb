{
 "cells": [
  {
   "cell_type": "markdown",
   "metadata": {},
   "source": [
    "# AOC 2022 - Day 3"
   ]
  },
  {
   "cell_type": "code",
   "execution_count": 49,
   "metadata": {},
   "outputs": [
    {
     "name": "stdout",
     "output_type": "stream",
     "text": [
      "300\n"
     ]
    }
   ],
   "source": [
    "# Data Import\n",
    "\n",
    "data = open(\"data/day3.txt\", \"r\").read().splitlines()\n",
    "\n",
    "# for i in range(len(data)):\n",
    "#     data[i] = int(data[i])\n",
    "    \n",
    "# print(data, len(data))\n",
    "print(len(data))"
   ]
  },
  {
   "cell_type": "code",
   "execution_count": 50,
   "metadata": {},
   "outputs": [
    {
     "name": "stdout",
     "output_type": "stream",
     "text": [
      "8233\n"
     ]
    }
   ],
   "source": [
    "# Part 2\n",
    "\n",
    "import string\n",
    "\n",
    "alphabet_lst = list(string.ascii_letters)\n",
    "score = 0\n",
    "\n",
    "for row in data:\n",
    "    size = len(row)\n",
    "    half = int(size/2)\n",
    "    first = row[:half]\n",
    "    last = row[half:]\n",
    "    \n",
    "    # print(row,size,half)\n",
    "    # print(first, len(first))\n",
    "    # print(last, len(last))\n",
    "    \n",
    "    shared_char = ''\n",
    "    for char in first:\n",
    "        if char in last:\n",
    "            shared_char = char\n",
    "    \n",
    "    score += alphabet_lst.index(shared_char)+1 \n",
    "    # print(shared_char, alphabet_lst.index(shared_char)+1)\n",
    "            \n",
    "\n",
    "print(score)"
   ]
  },
  {
   "cell_type": "code",
   "execution_count": 51,
   "metadata": {},
   "outputs": [
    {
     "name": "stdout",
     "output_type": "stream",
     "text": [
      "2821\n"
     ]
    }
   ],
   "source": [
    "# Part 2\n",
    "\n",
    "import string\n",
    "\n",
    "alphabet_lst = list(string.ascii_letters)\n",
    "score = 0\n",
    "\n",
    "group_lst = []\n",
    "tmp_lst = []\n",
    "\n",
    "for row in data:\n",
    "    tmp_lst.append(row)\n",
    "    if len(tmp_lst) == 3:\n",
    "        group_lst.append(tmp_lst)\n",
    "        tmp_lst = []\n",
    "        \n",
    "# print(group_lst)\n",
    "\n",
    "shared_char = ''\n",
    "for group in group_lst:\n",
    "    for char in group[0]:\n",
    "        if char in group[1]:\n",
    "            if char in group[2]:\n",
    "                shared_char = char\n",
    "    score += alphabet_lst.index(shared_char)+1 \n",
    "    # print(shared_char, alphabet_lst.index(shared_char)+1)\n",
    "\n",
    "print(score)\n"
   ]
  },
  {
   "cell_type": "code",
   "execution_count": null,
   "metadata": {},
   "outputs": [],
   "source": []
  }
 ],
 "metadata": {
  "kernelspec": {
   "display_name": "Python 3.9.9 ('ipm_learning-TySYBDCQ')",
   "language": "python",
   "name": "python3"
  },
  "language_info": {
   "codemirror_mode": {
    "name": "ipython",
    "version": 3
   },
   "file_extension": ".py",
   "mimetype": "text/x-python",
   "name": "python",
   "nbconvert_exporter": "python",
   "pygments_lexer": "ipython3",
   "version": "3.9.9"
  },
  "orig_nbformat": 4,
  "vscode": {
   "interpreter": {
    "hash": "085c3b7ad4972dc21562df89feefbd0c5185daf2efc367107f7354ed5c28e639"
   }
  }
 },
 "nbformat": 4,
 "nbformat_minor": 2
}
