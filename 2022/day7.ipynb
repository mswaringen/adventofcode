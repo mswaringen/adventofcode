{
 "cells": [
  {
   "cell_type": "markdown",
   "metadata": {},
   "source": [
    "# AOC 2022 - Day 7"
   ]
  },
  {
   "cell_type": "code",
   "execution_count": 1,
   "metadata": {},
   "outputs": [
    {
     "name": "stdout",
     "output_type": "stream",
     "text": [
      "23\n"
     ]
    }
   ],
   "source": [
    "# Data Import\n",
    "\n",
    "data = open(\"data/test7.txt\", \"r\").read().splitlines()\n",
    "\n",
    "# for i in range(len(data)):\n",
    "#     data[i] = int(data[i])\n",
    "\n",
    "# data = data[:2]\n",
    "# print(data, len(data))\n",
    "print(len(data))"
   ]
  },
  {
   "cell_type": "code",
   "execution_count": 2,
   "metadata": {},
   "outputs": [
    {
     "name": "stdout",
     "output_type": "stream",
     "text": [
      "{   '/': ['dir a', '14848514 b.txt', '8504156 c.dat', 'dir d'],\n",
      "    'a': ['dir e', '29116 f', '2557 g', '62596 h.lst'],\n",
      "    'd': ['4060174 j', '8033020 d.log', '5626152 d.ext', '7214296 k'],\n",
      "    'e': ['584 i']}\n"
     ]
    }
   ],
   "source": [
    "cmd_bool = False\n",
    "working_dir = '/'\n",
    "last_working_dir = ''\n",
    "root = {}\n",
    "\n",
    "for row in data:\n",
    "    # print(working_dir, '>', row)\n",
    "    row_items = row.split(' ')\n",
    "    if row_items[0] == '$':\n",
    "        cmd_bool = True\n",
    "        cmd_action = row_items[1]\n",
    "        if cmd_action == 'cd':\n",
    "            cd_dest = row_items[2]\n",
    "            if cd_dest == '..':\n",
    "                working_dir = last_working_dir\n",
    "            else:\n",
    "                last_working_dir = working_dir\n",
    "                working_dir = cd_dest\n",
    "            # root[working_dir] = []\n",
    "\n",
    "    else:\n",
    "        if working_dir not in root:\n",
    "            root[working_dir] = []\n",
    "        root[working_dir].append(row)\n",
    "        \n",
    "# print(root)\n",
    "\n",
    "import pprint\n",
    "pp = pprint.PrettyPrinter(indent=4)\n",
    "pp.pprint(root)\n",
    "    \n",
    "        "
   ]
  },
  {
   "cell_type": "code",
   "execution_count": 3,
   "metadata": {},
   "outputs": [
    {
     "name": "stdout",
     "output_type": "stream",
     "text": [
      "{   '/': ['dir a', '14848514 b.txt', '8504156 c.dat', 'dir d', 23352670],\n",
      "    'a': ['dir e', '29116 f', '2557 g', '62596 h.lst', 94269],\n",
      "    'd': ['4060174 j', '8033020 d.log', '5626152 d.ext', '7214296 k', 24933642],\n",
      "    'e': ['584 i', 584]}\n"
     ]
    }
   ],
   "source": [
    "# Append non-recursive sum to dir\n",
    "\n",
    "for k, v in root.items():\n",
    "    sum = 0\n",
    "    for ele in v:\n",
    "        # print(ele)\n",
    "        first,last = ele.split(' ')\n",
    "        if first != 'dir':\n",
    "            sum += int(first)\n",
    "    v.append(sum)\n",
    "    \n",
    "pp.pprint(root)"
   ]
  },
  {
   "cell_type": "code",
   "execution_count": 4,
   "metadata": {},
   "outputs": [
    {
     "name": "stdout",
     "output_type": "stream",
     "text": [
      "{'/': 48380581, 'a': 94853, 'e': 584, 'd': 24933642}\n"
     ]
    }
   ],
   "source": [
    "# Sum values\n",
    "\n",
    "dir_sums = {}\n",
    "\n",
    "for k, v in root.items():\n",
    "    # print(k, v)\n",
    "    sum = 0\n",
    "    for ele in v:\n",
    "        # print(ele)\n",
    "        if isinstance(ele,str):\n",
    "            first,last = ele.split(' ')\n",
    "            if first == 'dir':\n",
    "                sum += root[last][-1]\n",
    "    sum+= root[k][-1]\n",
    "    dir_sums[k] = sum\n",
    "    # print(k,sum)\n",
    "    \n",
    "print(dir_sums)\n"
   ]
  },
  {
   "cell_type": "code",
   "execution_count": 6,
   "metadata": {},
   "outputs": [],
   "source": [
    "# Recursive\n",
    "\n",
    "# def sum_dir(dir):\n",
    "#     sum = 0\n",
    "#     for ele in dir:\n",
    "#         # print(ele)\n",
    "#         first,last = ele.split(' ')\n",
    "#         if first != 'dir':\n",
    "#             sum += int(first)\n",
    "#         else:\n",
    "#             sum+= sum_dir(root[last])\n",
    "#     return sum\n",
    "\n",
    "# dir_sums = {}\n",
    "\n",
    "# for k, v in root.items():\n",
    "#     # print(k,v)\n",
    "#     dir_sums[k] = sum_dir(v)\n",
    "    \n",
    "\n",
    "# print(dir_sums)"
   ]
  },
  {
   "cell_type": "code",
   "execution_count": 9,
   "metadata": {},
   "outputs": [],
   "source": [
    "# 2-level deep loop\n",
    "\n",
    "# dir_sums = {}\n",
    "\n",
    "# for k, v in root.items():\n",
    "#     # print(k,v)\n",
    "#     sum = 0\n",
    "#     for ele in v:\n",
    "#         # print(ele)\n",
    "#         first,last = ele.split(' ')\n",
    "#         if first != 'dir':\n",
    "#             sum += int(first)\n",
    "#         else:\n",
    "#             for ele in root[last]:\n",
    "#                 # print(ele)\n",
    "#                 first,last = ele.split(' ')\n",
    "#                 if first != 'dir':\n",
    "#                     sum += int(first)\n",
    "#     dir_sums[k] = sum\n",
    "    \n",
    "\n",
    "# print(dir_sums)"
   ]
  },
  {
   "cell_type": "code",
   "execution_count": 10,
   "metadata": {},
   "outputs": [
    {
     "name": "stdout",
     "output_type": "stream",
     "text": [
      "0\n"
     ]
    }
   ],
   "source": [
    "count = 0\n",
    "for k,v in dir_sums.items():\n",
    "    if v <= 100000:\n",
    "        count+= v\n",
    "        \n",
    "print(count)"
   ]
  },
  {
   "cell_type": "code",
   "execution_count": null,
   "metadata": {},
   "outputs": [],
   "source": [
    "# count = 0\n",
    "# for k,v in root.items():\n",
    "#     if v[-1] <= 100000:\n",
    "#         count+= v[-1]\n",
    "        \n",
    "# print(count)"
   ]
  },
  {
   "cell_type": "code",
   "execution_count": 35,
   "metadata": {},
   "outputs": [
    {
     "name": "stdout",
     "output_type": "stream",
     "text": [
      "1844187\n"
     ]
    }
   ],
   "source": [
    "# Refactored\n",
    "\n",
    "with open(\"data/day7.txt\") as f:\n",
    "    s = f.read().strip()\n",
    "\n",
    "files = {}\n",
    "\n",
    "folders = set()\n",
    "\n",
    "cur = []\n",
    "\n",
    "for cmd in s.split(\"\\n\"):\n",
    "    if cmd.startswith(\"$\"):\n",
    "        if cmd.startswith(\"$ cd\"):\n",
    "            r = cmd[5:]\n",
    "            if r == \"..\":\n",
    "                if len(cur) > 0:\n",
    "                    cur.pop(-1)\n",
    "            elif r == \"/\":\n",
    "                cur = []\n",
    "            else:\n",
    "                cur.extend(r.split(\"/\"))\n",
    "    else:\n",
    "        size, name = cmd.split(\" \")\n",
    "        if size == \"dir\":\n",
    "            continue\n",
    "        size = int(size)\n",
    "        files[\"/\".join(cur + [name])] = size\n",
    "    folders.add(\"/\".join(cur))\n",
    "    \n",
    "r = 0\n",
    "fsizes = {}\n",
    "for folder in folders:\n",
    "    fsize = 0\n",
    "    for file in files:\n",
    "        if file.startswith(folder):\n",
    "            fsize += files[file]\n",
    "    if fsize <= 100000:\n",
    "        r += fsize\n",
    "    fsizes[folder] = fsize\n",
    "\n",
    "print(r)"
   ]
  },
  {
   "cell_type": "code",
   "execution_count": 25,
   "metadata": {},
   "outputs": [
    {
     "name": "stdout",
     "output_type": "stream",
     "text": [
      "{'b.txt': 14848514, 'c.dat': 8504156, 'a/f': 29116, 'a/g': 2557, 'a/h.lst': 62596, 'a/e/i': 584, 'd/j': 4060174, 'd/d.log': 8033020, 'd/d.ext': 5626152, 'd/k': 7214296}\n",
      "{'', 'a/e', 'a', 'd'}\n",
      "['d']\n"
     ]
    }
   ],
   "source": [
    "print(files)\n",
    "print(folders)\n",
    "print(cur)"
   ]
  },
  {
   "cell_type": "code",
   "execution_count": 34,
   "metadata": {},
   "outputs": [
    {
     "name": "stdout",
     "output_type": "stream",
     "text": [
      "{'': 48381165, 'a/e': 584, 'a': 94853, 'd': 24933642}\n",
      "[584, 94853, 24933642, 48381165]\n"
     ]
    },
    {
     "ename": "TypeError",
     "evalue": "'int' object is not callable",
     "output_type": "error",
     "traceback": [
      "\u001b[0;31m---------------------------------------------------------------------------\u001b[0m",
      "\u001b[0;31mTypeError\u001b[0m                                 Traceback (most recent call last)",
      "Cell \u001b[0;32mIn[34], line 4\u001b[0m\n\u001b[1;32m      2\u001b[0m sorted_vals \u001b[39m=\u001b[39m \u001b[39msorted\u001b[39m(fsizes\u001b[39m.\u001b[39mvalues())\n\u001b[1;32m      3\u001b[0m \u001b[39mprint\u001b[39m(sorted_vals)\n\u001b[0;32m----> 4\u001b[0m current_mem \u001b[39m=\u001b[39m \u001b[39msum\u001b[39;49m(sorted_vals)\n\u001b[1;32m      5\u001b[0m \u001b[39mprint\u001b[39m(current_mem)\n\u001b[1;32m      6\u001b[0m total_mem_size \u001b[39m=\u001b[39m \u001b[39m70000000\u001b[39m\n",
      "\u001b[0;31mTypeError\u001b[0m: 'int' object is not callable"
     ]
    }
   ],
   "source": [
    "print(fsizes)\n",
    "sorted_vals = sorted(fsizes.values())\n",
    "print(sorted_vals)\n",
    "current_mem = sum(sorted_vals)\n",
    "print(current_mem)\n",
    "total_mem_size = 70000000\n",
    "update_size = 30000000\n",
    "\n",
    "for val in sorted_vals:\n",
    "    print(val)"
   ]
  },
  {
   "cell_type": "code",
   "execution_count": 36,
   "metadata": {},
   "outputs": [
    {
     "name": "stdout",
     "output_type": "stream",
     "text": [
      "4978279\n"
     ]
    }
   ],
   "source": [
    "# Refactored Part 2\n",
    "print(min(v for v in fsizes.values() if 70000000 - fsizes[\"\"] + v >= 30000000))"
   ]
  },
  {
   "cell_type": "code",
   "execution_count": null,
   "metadata": {},
   "outputs": [],
   "source": []
  }
 ],
 "metadata": {
  "kernelspec": {
   "display_name": "Python 3.9.9 ('ipm_learning-TySYBDCQ')",
   "language": "python",
   "name": "python3"
  },
  "language_info": {
   "codemirror_mode": {
    "name": "ipython",
    "version": 3
   },
   "file_extension": ".py",
   "mimetype": "text/x-python",
   "name": "python",
   "nbconvert_exporter": "python",
   "pygments_lexer": "ipython3",
   "version": "3.9.9"
  },
  "orig_nbformat": 4,
  "vscode": {
   "interpreter": {
    "hash": "085c3b7ad4972dc21562df89feefbd0c5185daf2efc367107f7354ed5c28e639"
   }
  }
 },
 "nbformat": 4,
 "nbformat_minor": 2
}
