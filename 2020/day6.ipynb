{
 "cells": [
  {
   "cell_type": "markdown",
   "metadata": {},
   "source": [
    "# Day 6"
   ]
  },
  {
   "cell_type": "markdown",
   "metadata": {},
   "source": [
    "#### What is the highest seat ID on a boarding pass?"
   ]
  },
  {
   "cell_type": "code",
   "execution_count": 127,
   "metadata": {
    "scrolled": true
   },
   "outputs": [
    {
     "name": "stdout",
     "output_type": "stream",
     "text": [
      "fbqjswm\n"
     ]
    }
   ],
   "source": [
    "data = open(\"data/day6.txt\", \"r\").read().splitlines()\n",
    "print(data[0])"
   ]
  },
  {
   "cell_type": "code",
   "execution_count": 94,
   "metadata": {
    "scrolled": true
   },
   "outputs": [
    {
     "name": "stdout",
     "output_type": "stream",
     "text": [
      "total: 11\n"
     ]
    }
   ],
   "source": [
    "# part 1\n",
    "\n",
    "score = 0\n",
    "record = []\n",
    "for row in range(len(data)):\n",
    "    if data[row] != \"\":\n",
    "        lst = list(data[row])\n",
    "        for i in range(len(lst)):\n",
    "            if lst[i] not in record:\n",
    "                record.append(lst[i])\n",
    "        if row == len(data)-1:\n",
    "            score += len(record)\n",
    "    else:\n",
    "        score += len(record)\n",
    "        record = []\n",
    "        \n",
    "print(\"total:\",score)"
   ]
  },
  {
   "cell_type": "code",
   "execution_count": 131,
   "metadata": {},
   "outputs": [
    {
     "name": "stdout",
     "output_type": "stream",
     "text": [
      "total: 3570\n"
     ]
    }
   ],
   "source": [
    "# part 2\n",
    "\n",
    "score = 0\n",
    "record = []\n",
    "for row in range(len(data)):\n",
    "    if data[row] != \"\":\n",
    "        lst = list(data[row])\n",
    "        record.append(lst)\n",
    "        if row == len(data)-1:\n",
    "            score += len(set(record[0]).intersection(*record))\n",
    "    else:\n",
    "        score += len(set(record[0]).intersection(*record))\n",
    "        record = []\n",
    "        \n",
    "print(\"total:\",score)"
   ]
  },
  {
   "cell_type": "code",
   "execution_count": null,
   "metadata": {},
   "outputs": [],
   "source": []
  }
 ],
 "metadata": {
  "kernelspec": {
   "display_name": "Python 3",
   "language": "python",
   "name": "python3"
  },
  "language_info": {
   "codemirror_mode": {
    "name": "ipython",
    "version": 3
   },
   "file_extension": ".py",
   "mimetype": "text/x-python",
   "name": "python",
   "nbconvert_exporter": "python",
   "pygments_lexer": "ipython3",
   "version": "3.7.9"
  }
 },
 "nbformat": 4,
 "nbformat_minor": 4
}
