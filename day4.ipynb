{
 "cells": [
  {
   "cell_type": "markdown",
   "metadata": {},
   "source": [
    "# Day 4"
   ]
  },
  {
   "cell_type": "markdown",
   "metadata": {},
   "source": [
    "#### In your batch file, how many passports are valid?"
   ]
  },
  {
   "cell_type": "code",
   "execution_count": 77,
   "metadata": {},
   "outputs": [
    {
     "name": "stdout",
     "output_type": "stream",
     "text": [
      "eyr:2028 iyr:2016 byr:1995 ecl:oth\n"
     ]
    }
   ],
   "source": [
    "content_list = open(\"data/day4.txt\", \"r\").read().splitlines()\n",
    "print(content_list[0])"
   ]
  },
  {
   "cell_type": "code",
   "execution_count": 78,
   "metadata": {},
   "outputs": [],
   "source": [
    "import re\n",
    "\n",
    "def check_valid(doc):\n",
    "    keys = ['eyr','iyr','byr','ecl','pid','hcl','hgt']\n",
    "    \n",
    "    def validate():\n",
    "        check = 0\n",
    "        if (int(doc['eyr'])>=2020) and (int(doc['eyr'])<=2030):\n",
    "            check+=1\n",
    "        if (int(doc['iyr'])>=2010) and (int(doc['iyr'])<=2020):\n",
    "            check+=1\n",
    "        if (int(doc['byr'])>=1920) and (int(doc['byr'])<=2002):\n",
    "            check+=1\n",
    "        if doc['ecl'] in ['amb', 'blu', 'brn', 'gry', 'grn', 'hzl', 'oth']:\n",
    "            check+=1\n",
    "        if len(doc['pid']) == 9:\n",
    "            check+=1\n",
    "        if re.match('^#[a-zA-Z0-9]{6}$',doc['hcl']):\n",
    "            check+=1\n",
    "        if (doc['hgt'][-2:] == 'in') or (doc['hgt'][-2:] == 'cm'):\n",
    "            if (doc['hgt'][-2:] == 'in') and ((int(doc['hgt'][:-2]) >= 59) and (int(doc['hgt'][:-2]) <= 76)): \n",
    "                check+=1\n",
    "            if (doc['hgt'][-2:] == 'cm') and ((int(doc['hgt'][:-2]) >= 150) and (int(doc['hgt'][:-2]) <= 193)): \n",
    "                check+=1\n",
    "        if check == 7:\n",
    "            return True\n",
    "        else:\n",
    "            return False\n",
    "\n",
    "    if all(k in doc for k in keys):\n",
    "        if validate(): \n",
    "            return True \n",
    "        else: \n",
    "            return False\n",
    "    else:\n",
    "        return False"
   ]
  },
  {
   "cell_type": "code",
   "execution_count": 79,
   "metadata": {},
   "outputs": [
    {
     "name": "stdout",
     "output_type": "stream",
     "text": [
      "198\n"
     ]
    }
   ],
   "source": [
    "valid = 0\n",
    "doc = {}\n",
    "\n",
    "for row in range(len(content_list)):\n",
    "    if content_list[row] != \"\":\n",
    "        items = content_list[row].split()\n",
    "        for i in range(len(items)):\n",
    "            key,val = items[i].split()[0].split(':')\n",
    "            doc[key] = val\n",
    "#         print(doc)\n",
    "    else:\n",
    "#         print(doc)\n",
    "        if check_valid(doc): valid+=1\n",
    "        doc = {}\n",
    "\n",
    "print(valid)\n"
   ]
  }
 ],
 "metadata": {
  "kernelspec": {
   "display_name": "Python 3",
   "language": "python",
   "name": "python3"
  },
  "language_info": {
   "codemirror_mode": {
    "name": "ipython",
    "version": 3
   },
   "file_extension": ".py",
   "mimetype": "text/x-python",
   "name": "python",
   "nbconvert_exporter": "python",
   "pygments_lexer": "ipython3",
   "version": "3.7.9"
  }
 },
 "nbformat": 4,
 "nbformat_minor": 4
}
