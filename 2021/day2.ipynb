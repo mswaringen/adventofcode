{
 "cells": [
  {
   "cell_type": "markdown",
   "id": "fa2be796",
   "metadata": {},
   "source": [
    "# Day 2"
   ]
  },
  {
   "cell_type": "code",
   "execution_count": 16,
   "id": "20fc6050",
   "metadata": {},
   "outputs": [
    {
     "name": "stdout",
     "output_type": "stream",
     "text": [
      "forward 9 1000\n"
     ]
    }
   ],
   "source": [
    "test = False\n",
    "test_data = \"data/test2.txt\"\n",
    "prob_data = \"data/day2.txt\"\n",
    "\n",
    "\n",
    "if test == True:\n",
    "    data = open(test_data, \"r\").read().splitlines()\n",
    "else:\n",
    "    data = open(prob_data, \"r\").read().splitlines()\n",
    "    \n",
    "# for i in range(len(data)):\n",
    "#     data[i] = int(data[i])\n",
    "    \n",
    "print(data[0], len(data))"
   ]
  },
  {
   "cell_type": "code",
   "execution_count": 13,
   "id": "5a8dd7e5",
   "metadata": {},
   "outputs": [
    {
     "name": "stdout",
     "output_type": "stream",
     "text": [
      "2083 955 1989265\n"
     ]
    }
   ],
   "source": [
    "horz = 0\n",
    "depth = 0\n",
    "\n",
    "for row in range(len(data)):\n",
    "#     print(data[row])\n",
    "    direction, amt = data[row].split(' ')\n",
    "    amt = int(amt)\n",
    "    if direction == 'forward':\n",
    "        horz += amt\n",
    "    if direction == 'down':\n",
    "        depth += amt\n",
    "    if direction == 'up':\n",
    "        depth -= amt\n",
    "\n",
    "print(horz, depth, horz*depth)"
   ]
  },
  {
   "cell_type": "markdown",
   "id": "d074b724",
   "metadata": {},
   "source": [
    "### Part 2"
   ]
  },
  {
   "cell_type": "code",
   "execution_count": 17,
   "id": "140136c9",
   "metadata": {},
   "outputs": [
    {
     "name": "stdout",
     "output_type": "stream",
     "text": [
      "2083 1002964 2089174012\n"
     ]
    }
   ],
   "source": [
    "horz = 0\n",
    "depth = 0\n",
    "aim = 0\n",
    "\n",
    "for row in range(len(data)):\n",
    "#     print(data[row])\n",
    "    direction, amt = data[row].split(' ')\n",
    "    amt = int(amt)\n",
    "    if direction == 'forward':\n",
    "        horz += amt\n",
    "        depth += aim * amt\n",
    "    if direction == 'down':\n",
    "        aim += amt\n",
    "    if direction == 'up':\n",
    "        aim -= amt\n",
    "\n",
    "print(horz, depth, horz*depth)"
   ]
  },
  {
   "cell_type": "code",
   "execution_count": null,
   "id": "2d7c7fef",
   "metadata": {},
   "outputs": [],
   "source": []
  }
 ],
 "metadata": {
  "kernelspec": {
   "display_name": "Python 3 (ipykernel)",
   "language": "python",
   "name": "python3"
  },
  "language_info": {
   "codemirror_mode": {
    "name": "ipython",
    "version": 3
   },
   "file_extension": ".py",
   "mimetype": "text/x-python",
   "name": "python",
   "nbconvert_exporter": "python",
   "pygments_lexer": "ipython3",
   "version": "3.8.10"
  }
 },
 "nbformat": 4,
 "nbformat_minor": 5
}
