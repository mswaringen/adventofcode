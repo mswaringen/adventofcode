{
 "cells": [
  {
   "cell_type": "markdown",
   "id": "8f1389bb",
   "metadata": {},
   "source": [
    "# Day 6\n"
   ]
  },
  {
   "cell_type": "markdown",
   "id": "aa907910",
   "metadata": {},
   "source": [
    "### Pseudo\n",
    "\n",
    "- Extract input into tuple\n",
    "-"
   ]
  },
  {
   "cell_type": "code",
   "execution_count": 40,
   "id": "f7dfc54c",
   "metadata": {},
   "outputs": [
    {
     "name": "stdout",
     "output_type": "stream",
     "text": [
      "3,4,1,2,1,2,5,1,2,1,5,4,3,2,5,1,5,1,2,2,2,3,4,5,2,5,1,3,3,1,3,4,1,5,3,2,2,1,3,2,5,1,1,4,1,4,5,1,3,1,1,5,3,1,1,4,2,2,5,1,5,5,1,5,4,1,5,3,5,1,1,4,1,2,2,1,1,1,4,2,1,3,1,1,4,5,1,1,1,1,1,5,1,1,4,1,1,1,1,2,1,4,2,1,2,4,1,3,1,2,3,2,4,1,1,5,1,1,1,2,5,5,1,1,4,1,2,2,3,5,1,4,5,4,1,3,1,4,1,4,3,2,4,3,2,4,5,1,4,5,2,1,1,1,1,1,3,1,5,1,3,1,1,2,1,4,1,3,1,5,2,4,2,1,1,1,2,1,1,4,1,1,1,1,1,5,4,1,3,3,5,3,2,5,5,2,1,5,2,4,4,1,5,2,3,1,5,3,4,1,5,1,5,3,1,1,1,4,4,5,1,1,1,3,1,4,5,1,2,3,1,3,2,3,1,3,5,4,3,1,3,4,3,1,2,1,1,3,1,1,3,1,1,4,1,2,1,2,5,1,1,3,5,3,3,3,1,1,1,1,1,5,3,3,1,1,3,4,1,1,4,1,1,2,4,4,1,1,3,1,3,2,2,1,2,5,3,3,1,1 1\n"
     ]
    }
   ],
   "source": [
    "test = False\n",
    "test_data = \"data/test6.txt\"\n",
    "prob_data = \"data/day6.txt\"\n",
    "\n",
    "\n",
    "if test == True:\n",
    "    data = open(test_data, \"r\").read().splitlines()\n",
    "else:\n",
    "    data = open(prob_data, \"r\").read().splitlines()\n",
    "    \n",
    "# for i in range(len(data)):\n",
    "#     data[i] = [int(char) for char in data[i]]\n",
    "    \n",
    "print(data[0], len(data))"
   ]
  },
  {
   "cell_type": "code",
   "execution_count": 41,
   "id": "deebffb7",
   "metadata": {},
   "outputs": [
    {
     "name": "stdout",
     "output_type": "stream",
     "text": [
      "[3, 4, 1, 2, 1, 2, 5, 1, 2, 1, 5, 4, 3, 2, 5, 1, 5, 1, 2, 2, 2, 3, 4, 5, 2, 5, 1, 3, 3, 1, 3, 4, 1, 5, 3, 2, 2, 1, 3, 2, 5, 1, 1, 4, 1, 4, 5, 1, 3, 1, 1, 5, 3, 1, 1, 4, 2, 2, 5, 1, 5, 5, 1, 5, 4, 1, 5, 3, 5, 1, 1, 4, 1, 2, 2, 1, 1, 1, 4, 2, 1, 3, 1, 1, 4, 5, 1, 1, 1, 1, 1, 5, 1, 1, 4, 1, 1, 1, 1, 2, 1, 4, 2, 1, 2, 4, 1, 3, 1, 2, 3, 2, 4, 1, 1, 5, 1, 1, 1, 2, 5, 5, 1, 1, 4, 1, 2, 2, 3, 5, 1, 4, 5, 4, 1, 3, 1, 4, 1, 4, 3, 2, 4, 3, 2, 4, 5, 1, 4, 5, 2, 1, 1, 1, 1, 1, 3, 1, 5, 1, 3, 1, 1, 2, 1, 4, 1, 3, 1, 5, 2, 4, 2, 1, 1, 1, 2, 1, 1, 4, 1, 1, 1, 1, 1, 5, 4, 1, 3, 3, 5, 3, 2, 5, 5, 2, 1, 5, 2, 4, 4, 1, 5, 2, 3, 1, 5, 3, 4, 1, 5, 1, 5, 3, 1, 1, 1, 4, 4, 5, 1, 1, 1, 3, 1, 4, 5, 1, 2, 3, 1, 3, 2, 3, 1, 3, 5, 4, 3, 1, 3, 4, 3, 1, 2, 1, 1, 3, 1, 1, 3, 1, 1, 4, 1, 2, 1, 2, 5, 1, 1, 3, 5, 3, 3, 3, 1, 1, 1, 1, 1, 5, 3, 3, 1, 1, 3, 4, 1, 1, 4, 1, 1, 2, 4, 4, 1, 1, 3, 1, 3, 2, 2, 1, 2, 5, 3, 3, 1, 1]\n"
     ]
    }
   ],
   "source": [
    "data = [int(char) for char in data[0].split(',')]\n",
    "# data = [(v,) for v in data]\n",
    "\n",
    "# data = data[0].split(',')\n",
    "print(data)"
   ]
  },
  {
   "cell_type": "code",
   "execution_count": 3,
   "id": "82e3671a",
   "metadata": {},
   "outputs": [],
   "source": [
    "days = 80\n",
    "fish_count = data\n",
    "\n",
    "def count_fish(days, fish_count):\n",
    "#     print('Initial state: ', fish_count)\n",
    "    for day in range(days):\n",
    "        for i, fish in enumerate(fish_count):\n",
    "            if fish > 0:\n",
    "                fish_count[i] -= 1\n",
    "            else:\n",
    "                fish_count[i] = 6\n",
    "                fish_count.append(9)\n",
    "#                 print('birth')\n",
    "#         print(f\"After {day+1} days\", fish_count)\n",
    "    \n"
   ]
  },
  {
   "cell_type": "code",
   "execution_count": 4,
   "id": "e8d2698f",
   "metadata": {
    "scrolled": true
   },
   "outputs": [
    {
     "name": "stdout",
     "output_type": "stream",
     "text": [
      "365131 0.3567468999990524\n"
     ]
    }
   ],
   "source": [
    "from timeit import default_timer as timer\n",
    "\n",
    "\n",
    "start = timer()\n",
    "count_fish(days, fish_count)\n",
    "end = timer()\n",
    "print(len(fish_count), end - start)"
   ]
  },
  {
   "cell_type": "markdown",
   "id": "a2252cf6",
   "metadata": {},
   "source": [
    "### Part 2"
   ]
  },
  {
   "cell_type": "code",
   "execution_count": 3,
   "id": "95e4fd90",
   "metadata": {},
   "outputs": [],
   "source": [
    "import numpy as np\n",
    "\n",
    "days = 256\n",
    "\n",
    "def count_fish_faster(days):\n",
    "    fish_count = np.array(data)\n",
    "    for day in range(days):\n",
    "        fish_count = np.where(fish_count>0, fish_count-1, 6)\n",
    "        births = (fish_count == 0).sum()\n",
    "        fish_count = np.append(fish_count, [9]*births)\n",
    "    return fish_count"
   ]
  },
  {
   "cell_type": "code",
   "execution_count": null,
   "id": "4741d8d9",
   "metadata": {},
   "outputs": [],
   "source": [
    "from timeit import default_timer as timer\n",
    "\n",
    "start = timer()\n",
    "res = count_fish_faster(days)\n",
    "end = timer()\n",
    "print(np.count_nonzero(res), end - start)"
   ]
  },
  {
   "cell_type": "markdown",
   "id": "7e1d45de",
   "metadata": {},
   "source": [
    "### Dict version"
   ]
  },
  {
   "cell_type": "code",
   "execution_count": 20,
   "id": "df0d21fd",
   "metadata": {},
   "outputs": [
    {
     "name": "stdout",
     "output_type": "stream",
     "text": [
      "{'3': 2, '4': 1, '1': 1, '2': 1}\n"
     ]
    }
   ],
   "source": [
    "days = 18\n",
    "\n",
    "def count_fish_dict(days):\n",
    "    fish_dict = {}\n",
    "    for v in data:\n",
    "        if v in fish_dict:\n",
    "            fish_dict[v] += 1\n",
    "        else:\n",
    "            fish_dict[v] = 1\n",
    "            \n",
    "    print(fish_dict)\n",
    "    \n",
    "    \n",
    "count_fish_dict(days)"
   ]
  },
  {
   "cell_type": "code",
   "execution_count": 43,
   "id": "27452293",
   "metadata": {},
   "outputs": [
    {
     "name": "stdout",
     "output_type": "stream",
     "text": [
      "Counter({1: 125, 3: 48, 2: 44, 5: 43, 4: 40})\n",
      "1650309278600\n"
     ]
    }
   ],
   "source": [
    "from collections import Counter\n",
    "\n",
    "def solve(fishes_list, n_days = 18):\n",
    "    counts = Counter(fishes_list)\n",
    "    print(counts)\n",
    "    for _ in range(n_days):\n",
    "        temp = [counts[i] for i in range(9)]\n",
    "#         print(temp)\n",
    "#         print(temp[0])\n",
    "        counts[0] = temp[1]\n",
    "        counts[1] = temp[2]\n",
    "        counts[2] = temp[3]\n",
    "        counts[3] = temp[4]\n",
    "        counts[4] = temp[5]\n",
    "        counts[5] = temp[6]\n",
    "        counts[6] = temp[7] + temp[0]\n",
    "        counts[7] = temp[8]\n",
    "        counts[8] = temp[0]\n",
    "    return sum(counts.values())\n",
    "    \n",
    "print(solve(data,n_days = 256))"
   ]
  },
  {
   "cell_type": "code",
   "execution_count": null,
   "id": "de9a9976",
   "metadata": {},
   "outputs": [],
   "source": []
  }
 ],
 "metadata": {
  "kernelspec": {
   "display_name": "Python 3 (ipykernel)",
   "language": "python",
   "name": "python3"
  },
  "language_info": {
   "codemirror_mode": {
    "name": "ipython",
    "version": 3
   },
   "file_extension": ".py",
   "mimetype": "text/x-python",
   "name": "python",
   "nbconvert_exporter": "python",
   "pygments_lexer": "ipython3",
   "version": "3.8.10"
  }
 },
 "nbformat": 4,
 "nbformat_minor": 5
}
