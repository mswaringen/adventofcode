{
 "cells": [
  {
   "cell_type": "code",
   "execution_count": 4,
   "id": "c5dfe410",
   "metadata": {},
   "outputs": [
    {
     "name": "stdout",
     "output_type": "stream",
     "text": [
      "3,4,3,1,2 1\n"
     ]
    }
   ],
   "source": [
    "test = True\n",
    "test_data = \"data/test6.txt\"\n",
    "prob_data = \"data/day6.txt\"\n",
    "\n",
    "\n",
    "if test == True:\n",
    "    data = open(test_data, \"r\").read().splitlines()\n",
    "else:\n",
    "    data = open(prob_data, \"r\").read().splitlines()\n",
    "    \n",
    "# for i in range(len(data)):\n",
    "#     data[i] = [int(char) for char in data[i]]\n",
    "    \n",
    "print(data[0], len(data))"
   ]
  },
  {
   "cell_type": "code",
   "execution_count": 5,
   "id": "7104853f",
   "metadata": {},
   "outputs": [
    {
     "name": "stdout",
     "output_type": "stream",
     "text": [
      "[3, 4, 3, 1, 2]\n"
     ]
    }
   ],
   "source": [
    "data = [int(char) for char in data[0].split(',')]\n",
    "print(data)"
   ]
  },
  {
   "cell_type": "code",
   "execution_count": 6,
   "id": "3d0fe222",
   "metadata": {},
   "outputs": [],
   "source": [
    "days = 80\n",
    "fish_count = data\n",
    "\n",
    "def count_fish(days, fish_count):\n",
    "#     print('Initial state: ', fish_count)\n",
    "    for day in range(days):\n",
    "        for i, fish in enumerate(fish_count):\n",
    "            if fish > 0:\n",
    "                fish_count[i] -= 1\n",
    "            else:\n",
    "                fish_count[i] = 6\n",
    "                fish_count.append(9)\n",
    "    #     print(f\"After {day+1} days\", fish_count)"
   ]
  },
  {
   "cell_type": "code",
   "execution_count": 7,
   "id": "be0bfd4d",
   "metadata": {},
   "outputs": [
    {
     "name": "stdout",
     "output_type": "stream",
     "text": [
      "5934\n"
     ]
    }
   ],
   "source": [
    "count_fish(days, fish_count)\n",
    "print(len(fish_count))"
   ]
  },
  {
   "cell_type": "code",
   "execution_count": 20,
   "id": "3d6e1ab0",
   "metadata": {},
   "outputs": [
    {
     "ename": "SyntaxError",
     "evalue": "invalid syntax (3934124257.py, line 12)",
     "output_type": "error",
     "traceback": [
      "\u001b[0;36m  File \u001b[0;32m\"/tmp/ipykernel_449/3934124257.py\"\u001b[0;36m, line \u001b[0;32m12\u001b[0m\n\u001b[0;31m    res = [[fish-=1 if fish > 0 else fish_birth(i) for i, fish in enumerate(fish_count)] for day in range(days)]\u001b[0m\n\u001b[0m                ^\u001b[0m\n\u001b[0;31mSyntaxError\u001b[0m\u001b[0;31m:\u001b[0m invalid syntax\n"
     ]
    }
   ],
   "source": [
    "# fish_count = [[fish-1 for fish in fishes if fish > 0 else fish_count[1]]for day in range(days)]\n",
    "\n",
    "\n",
    "\n",
    "fish_count= data\n",
    "days = 80\n",
    "\n",
    "def fish_birth(i):\n",
    "    fish_count[i] = 6\n",
    "    fish_count.append(9)\n",
    "\n",
    "res = [[fish-=1 if fish > 0 else fish_birth(i) for i, fish in enumerate(fish_count)] for day in range(days)]\n",
    "print(len(res))"
   ]
  },
  {
   "cell_type": "code",
   "execution_count": null,
   "id": "035b03c5",
   "metadata": {},
   "outputs": [],
   "source": []
  },
  {
   "cell_type": "code",
   "execution_count": null,
   "id": "05eb0872",
   "metadata": {},
   "outputs": [],
   "source": []
  }
 ],
 "metadata": {
  "kernelspec": {
   "display_name": "Python 3 (ipykernel)",
   "language": "python",
   "name": "python3"
  },
  "language_info": {
   "codemirror_mode": {
    "name": "ipython",
    "version": 3
   },
   "file_extension": ".py",
   "mimetype": "text/x-python",
   "name": "python",
   "nbconvert_exporter": "python",
   "pygments_lexer": "ipython3",
   "version": "3.8.10"
  }
 },
 "nbformat": 4,
 "nbformat_minor": 5
}
