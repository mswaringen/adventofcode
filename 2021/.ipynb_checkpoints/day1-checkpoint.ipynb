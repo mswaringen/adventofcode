{
 "cells": [
  {
   "cell_type": "markdown",
   "id": "a3f0f3d3",
   "metadata": {},
   "source": [
    "# Day 1\n",
    "\n",
    "How many measurements are larger than the previous measurement?"
   ]
  },
  {
   "cell_type": "code",
   "execution_count": 11,
   "id": "0c4830c0",
   "metadata": {},
   "outputs": [
    {
     "name": "stdout",
     "output_type": "stream",
     "text": [
      "199 10\n"
     ]
    }
   ],
   "source": [
    "# Test Data\n",
    "\n",
    "data = open(\"data/test1.txt\", \"r\").read().splitlines()\n",
    "\n",
    "for i in range(len(data)):\n",
    "    data[i] = int(data[i])\n",
    "    \n",
    "print(data[0], len(data))"
   ]
  },
  {
   "cell_type": "code",
   "execution_count": 27,
   "id": "b114a5d8",
   "metadata": {},
   "outputs": [
    {
     "name": "stdout",
     "output_type": "stream",
     "text": [
      "109 2000\n"
     ]
    }
   ],
   "source": [
    "# Problem Set\n",
    "\n",
    "data = open(\"data/day1.txt\", \"r\").read().splitlines()\n",
    "\n",
    "for i in range(len(data)):\n",
    "    data[i] = int(data[i])\n",
    "    \n",
    "print(data[0], len(data))"
   ]
  },
  {
   "cell_type": "code",
   "execution_count": 28,
   "id": "98c4e576",
   "metadata": {},
   "outputs": [
    {
     "name": "stdout",
     "output_type": "stream",
     "text": [
      "1448\n"
     ]
    }
   ],
   "source": [
    "count = 0\n",
    "\n",
    "for row in range(len(data)):\n",
    "    if row > 0:\n",
    "        if data[row] - data[row-1] > 0:\n",
    "            count+=1 \n",
    "#         print(data[row], data[row-1], count)\n",
    "        \n",
    "print(count)"
   ]
  },
  {
   "cell_type": "markdown",
   "id": "892983be",
   "metadata": {},
   "source": [
    "### Part 2"
   ]
  },
  {
   "cell_type": "code",
   "execution_count": 30,
   "id": "423b2f35",
   "metadata": {},
   "outputs": [
    {
     "name": "stdout",
     "output_type": "stream",
     "text": [
      "count:  1471\n"
     ]
    }
   ],
   "source": [
    "count = 0\n",
    "total_sum = 0\n",
    "slide_1 = []\n",
    "slide_2 = []\n",
    "\n",
    "for row in range(len(data)):\n",
    "#     print(row)\n",
    "#     print('slide_1: ', slide_1)\n",
    "#     print('slide_2: ', slide_2)\n",
    "\n",
    "    # Pop\n",
    "    if len(slide_1)==3:\n",
    "        slide_1.pop(0)\n",
    "#         print('pop 1')\n",
    "    if len(slide_2)==3:\n",
    "        slide_2.pop(0)\n",
    "#         print('pop 2')\n",
    "        \n",
    "    # Append\n",
    "    slide_1.append(data[row])\n",
    "    if row > 0:\n",
    "        slide_2.append(data[row])\n",
    "    \n",
    "    if len(slide_1)==3:\n",
    "        sum_slide_1 = sum(slide_1)\n",
    "        if sum_slide_1 > total_sum:\n",
    "            count+=1\n",
    "        total_sum = sum_slide_1\n",
    "#         print(total_sum)\n",
    "        \n",
    "    if len(slide_2)==3:\n",
    "        sum_slide_2 = sum(slide_2)\n",
    "        if sum_slide_2 > total_sum:\n",
    "            count+=1\n",
    "        total_sum = sum_slide_2\n",
    "#         print(total_sum)\n",
    "\n",
    "        \n",
    "print('count: ', count-1)"
   ]
  },
  {
   "cell_type": "code",
   "execution_count": null,
   "id": "116364e9",
   "metadata": {},
   "outputs": [],
   "source": []
  }
 ],
 "metadata": {
  "kernelspec": {
   "display_name": "Python 3 (ipykernel)",
   "language": "python",
   "name": "python3"
  },
  "language_info": {
   "codemirror_mode": {
    "name": "ipython",
    "version": 3
   },
   "file_extension": ".py",
   "mimetype": "text/x-python",
   "name": "python",
   "nbconvert_exporter": "python",
   "pygments_lexer": "ipython3",
   "version": "3.8.10"
  }
 },
 "nbformat": 4,
 "nbformat_minor": 5
}
