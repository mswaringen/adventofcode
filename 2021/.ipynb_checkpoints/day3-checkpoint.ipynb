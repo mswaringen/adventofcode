{
 "cells": [
  {
   "cell_type": "markdown",
   "id": "937eea61",
   "metadata": {},
   "source": [
    "# Day 3"
   ]
  },
  {
   "cell_type": "code",
   "execution_count": 46,
   "id": "46c702cf",
   "metadata": {},
   "outputs": [
    {
     "name": "stdout",
     "output_type": "stream",
     "text": [
      "[0, 0, 0, 1, 1, 0, 0, 0, 0, 0, 0, 1] 1000\n"
     ]
    }
   ],
   "source": [
    "test = False\n",
    "test_data = \"data/test3.txt\"\n",
    "prob_data = \"data/day3.txt\"\n",
    "\n",
    "\n",
    "if test == True:\n",
    "    data = open(test_data, \"r\").read().splitlines()\n",
    "else:\n",
    "    data = open(prob_data, \"r\").read().splitlines()\n",
    "    \n",
    "for i in range(len(data)):\n",
    "    data[i] = [int(char) for char in data[i]]\n",
    "    \n",
    "print(data[0], len(data))"
   ]
  },
  {
   "cell_type": "code",
   "execution_count": 25,
   "id": "9f37d0cf",
   "metadata": {},
   "outputs": [
    {
     "name": "stdout",
     "output_type": "stream",
     "text": [
      "<bound method Counter.most_common of Counter({0: 4, 1: 1})>\n",
      "[(0, 4)]\n",
      "0\n"
     ]
    }
   ],
   "source": [
    "from collections import Counter\n",
    "\n",
    "occur_count = Counter(data[0])\n",
    "print(occur_count.most_common)\n",
    "print(occur_count.most_common(1))\n",
    "print(occur_count.most_common(1)[0][0])"
   ]
  },
  {
   "cell_type": "code",
   "execution_count": 47,
   "id": "62d21e64",
   "metadata": {},
   "outputs": [
    {
     "name": "stdout",
     "output_type": "stream",
     "text": [
      "bit  0\n",
      "0\n",
      "bit  1\n",
      "1\n",
      "bit  2\n",
      "0\n",
      "bit  3\n",
      "0\n",
      "bit  4\n",
      "1\n",
      "bit  5\n",
      "0\n",
      "bit  6\n",
      "0\n",
      "bit  7\n",
      "1\n",
      "bit  8\n",
      "0\n",
      "bit  9\n",
      "1\n",
      "bit  10\n",
      "1\n",
      "bit  11\n",
      "0\n",
      "[0, 1, 0, 0, 1, 0, 0, 1, 0, 1, 1, 0]\n",
      "[1, 0, 1, 1, 0, 1, 1, 0, 1, 0, 0, 1]\n"
     ]
    }
   ],
   "source": [
    "from collections import Counter\n",
    "\n",
    "length = len(data[0])\n",
    "# print(length)\n",
    "gamma = []\n",
    "epsilon = []\n",
    "\n",
    "for i in range(length):\n",
    "    print('bit ',i)\n",
    "    bit_lst = []\n",
    "    tmp_lst = []\n",
    "    for row in range(len(data)):\n",
    "        tmp_lst.append(data[row][i])\n",
    "    gamma.append(Counter(tmp_lst).most_common(1)[0][0])\n",
    "    print(Counter(tmp_lst).most_common(1)[0][0])\n",
    "#     print(tmp_lst) \n",
    "#         print(data[row][i])\n",
    "print(gamma)\n",
    "\n",
    "for i in range(len(gamma)):\n",
    "    if gamma[i] == 0:\n",
    "        epsilon.append(1)\n",
    "    else:\n",
    "        epsilon.append(0)\n",
    "\n",
    "print(epsilon)"
   ]
  },
  {
   "cell_type": "code",
   "execution_count": 48,
   "id": "2415d04a",
   "metadata": {},
   "outputs": [
    {
     "name": "stdout",
     "output_type": "stream",
     "text": [
      "1174 2921 3429254\n"
     ]
    }
   ],
   "source": [
    "\n",
    "\n",
    "g = int(''.join(map(str,gamma)),2)\n",
    "e = int(''.join(map(str,epsilon)),2)\n",
    "print(g, e, g*e)"
   ]
  },
  {
   "cell_type": "code",
   "execution_count": null,
   "id": "eaac068d",
   "metadata": {},
   "outputs": [],
   "source": []
  }
 ],
 "metadata": {
  "kernelspec": {
   "display_name": "Python 3 (ipykernel)",
   "language": "python",
   "name": "python3"
  },
  "language_info": {
   "codemirror_mode": {
    "name": "ipython",
    "version": 3
   },
   "file_extension": ".py",
   "mimetype": "text/x-python",
   "name": "python",
   "nbconvert_exporter": "python",
   "pygments_lexer": "ipython3",
   "version": "3.8.10"
  }
 },
 "nbformat": 4,
 "nbformat_minor": 5
}
