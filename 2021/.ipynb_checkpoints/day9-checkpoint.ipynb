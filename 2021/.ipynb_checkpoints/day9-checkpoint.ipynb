{
 "cells": [
  {
   "cell_type": "markdown",
   "id": "4b149790",
   "metadata": {},
   "source": [
    "# Day 9"
   ]
  },
  {
   "cell_type": "code",
   "execution_count": 42,
   "id": "44559e8a",
   "metadata": {},
   "outputs": [
    {
     "name": "stdout",
     "output_type": "stream",
     "text": [
      "[2, 1, 9, 9, 9, 4, 3, 2, 1, 0]\n",
      "[3, 9, 8, 7, 8, 9, 4, 9, 2, 1]\n",
      "[9, 8, 5, 6, 7, 8, 9, 8, 9, 2]\n",
      "[8, 7, 6, 7, 8, 9, 6, 7, 8, 9]\n",
      "[9, 8, 9, 9, 9, 6, 5, 6, 7, 8]\n"
     ]
    }
   ],
   "source": [
    "test = True\n",
    "test_data = \"data/test9.txt\"\n",
    "prob_data = \"data/day9.txt\"\n",
    "\n",
    "\n",
    "if test == True:\n",
    "    data = open(test_data, \"r\").read().splitlines()\n",
    "else:\n",
    "    data = open(prob_data, \"r\").read().splitlines()\n",
    "    \n",
    "for i in range(len(data)):\n",
    "    data[i] = [int(char) for char in data[i]]\n",
    "\n",
    "# data = [(v,) for v in data]\n",
    "\n",
    "# data = data[0].split('')\n",
    "\n",
    "def clean_input(data):\n",
    "    tmp = []\n",
    "    for row in data:\n",
    "        tmp.append([char for char in row.split(' | ')])\n",
    "\n",
    "    lst = []\n",
    "    for row in tmp:\n",
    "        tmp = []\n",
    "        for v in row:\n",
    "    #         print(v)\n",
    "            tmp.append([char for char in v.split(' ')])\n",
    "        lst.append(tmp)\n",
    "    return lst\n",
    "\n",
    "\n",
    "# lst = clean_input(data)\n",
    "# print(data)\n",
    "print(*data, sep = \"\\n\")"
   ]
  },
  {
   "cell_type": "code",
   "execution_count": 43,
   "id": "f70f8d55",
   "metadata": {},
   "outputs": [
    {
     "name": "stdout",
     "output_type": "stream",
     "text": [
      "low  1\n",
      "low  0\n",
      "low  5\n",
      "low  5\n"
     ]
    }
   ],
   "source": [
    "def check_horz(i,v):\n",
    "#     print(v)\n",
    "    if i > 0 and i < len(row)-1:\n",
    "        if row[i-1] > v < row[i+1]:\n",
    "            return (i,v)\n",
    "    elif i > 0:\n",
    "        if row[i-1] > v:\n",
    "            return (i,v)\n",
    "    elif i < len(row)-1:\n",
    "        if v < row[i+1]:\n",
    "            return (i,v)\n",
    "\n",
    "def check_vert(row_i,col_i,v):\n",
    "    if row_i > 0 and row_i < len(data)-1:\n",
    "        if data[row_i-1][col_i] > v < data[row_i+1][col_i]:\n",
    "            return (col_i,v)\n",
    "    elif row_i > 0:\n",
    "        if data[row_i-1][col_i] > v:\n",
    "            return (col_i,v)\n",
    "    elif row_i < len(data)-1:\n",
    "#         print(v,row_i+1,col_i, data[row_i+1][col_i])\n",
    "        if v < data[row_i+1][col_i]:\n",
    "            return (col_i,v)\n",
    "\n",
    "low = []        \n",
    "for row_i, row in enumerate(data):\n",
    "#     print('row ',row_i)\n",
    "    lo = 9\n",
    "    for col_i, v in enumerate(row):\n",
    "        horz = check_horz(col_i,v)\n",
    "        if horz:\n",
    "            vert = check_vert(row_i,col_i,v)\n",
    "            if vert:\n",
    "                low.append(vert[1])\n",
    "                print(\"low \", vert[1])"
   ]
  },
  {
   "cell_type": "code",
   "execution_count": 44,
   "id": "30073df8",
   "metadata": {},
   "outputs": [
    {
     "name": "stdout",
     "output_type": "stream",
     "text": [
      "[1, 0, 5, 5]\n",
      "15\n"
     ]
    }
   ],
   "source": [
    "print(low)\n",
    "tot = 0\n",
    "for v in low:\n",
    "    tot += v+1\n",
    "print(tot)"
   ]
  },
  {
   "cell_type": "markdown",
   "id": "742f64cb",
   "metadata": {},
   "source": [
    "### Part 2"
   ]
  },
  {
   "cell_type": "code",
   "execution_count": 51,
   "id": "ba33d9ce",
   "metadata": {},
   "outputs": [
    {
     "name": "stdout",
     "output_type": "stream",
     "text": [
      "[2, 1, 9, 9, 9, 4, 3, 2, 1, 0]\n",
      "7\n",
      "[3, 9, 8, 7, 8, 9, 4, 9, 2, 1]\n",
      "7\n",
      "[9, 8, 5, 6, 7, 8, 9, 8, 9, 2]\n",
      "7\n",
      "[8, 7, 6, 7, 8, 9, 6, 7, 8, 9]\n",
      "8\n",
      "[9, 8, 9, 9, 9, 6, 5, 6, 7, 8]\n",
      "6\n",
      "35\n"
     ]
    }
   ],
   "source": [
    "def check_nine(row):\n",
    "    print(row)\n",
    "    return 1\n",
    "\n",
    "\n",
    "count = 0\n",
    "for i, row in enumerate(data):\n",
    "    print(row)\n",
    "#     [print(elem) for elem in row if elem < 9]\n",
    "    res = len([elem for elem in row if elem < 9])\n",
    "#     res = check_nine(row)\n",
    "    print(res)\n",
    "    count += res\n",
    "    \n",
    "print(count)"
   ]
  },
  {
   "cell_type": "code",
   "execution_count": null,
   "id": "6ce0e37f",
   "metadata": {},
   "outputs": [],
   "source": []
  }
 ],
 "metadata": {
  "kernelspec": {
   "display_name": "Python 3 (ipykernel)",
   "language": "python",
   "name": "python3"
  },
  "language_info": {
   "codemirror_mode": {
    "name": "ipython",
    "version": 3
   },
   "file_extension": ".py",
   "mimetype": "text/x-python",
   "name": "python",
   "nbconvert_exporter": "python",
   "pygments_lexer": "ipython3",
   "version": "3.8.10"
  }
 },
 "nbformat": 4,
 "nbformat_minor": 5
}
