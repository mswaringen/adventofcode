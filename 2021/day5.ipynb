{
 "cells": [
  {
   "cell_type": "markdown",
   "id": "36a4176e",
   "metadata": {},
   "source": [
    "# Day 5"
   ]
  },
  {
   "cell_type": "code",
   "execution_count": 1,
   "id": "4bd95d0a",
   "metadata": {},
   "outputs": [
    {
     "name": "stdout",
     "output_type": "stream",
     "text": [
      "414,379 -> 827,379 500\n"
     ]
    }
   ],
   "source": [
    "test = False\n",
    "test_data = \"data/test5.txt\"\n",
    "prob_data = \"data/day5.txt\"\n",
    "\n",
    "\n",
    "if test == True:\n",
    "    data = open(test_data, \"r\").read().splitlines()\n",
    "else:\n",
    "    data = open(prob_data, \"r\").read().splitlines()\n",
    "    \n",
    "# for i in range(len(data)):\n",
    "#     data[i] = [int(char) for char in data[i]]\n",
    "    \n",
    "print(data[0], len(data))"
   ]
  },
  {
   "cell_type": "code",
   "execution_count": 2,
   "id": "335d6663",
   "metadata": {},
   "outputs": [],
   "source": [
    "# Extract & clean data\n",
    "\n",
    "coors = []\n",
    "\n",
    "for i in range(len(data)):\n",
    "    tmp = data[i].split(' -> ')\n",
    "    tmp_set = []\n",
    "    for v in tmp:\n",
    "        tmp2 = v.split(',')\n",
    "        tmp2 = [int(char) for char in tmp2]\n",
    "        tmp_set.append(tuple(tmp2))\n",
    "    coors.append(tmp_set)\n",
    "    \n",
    "# for coor in coors:\n",
    "#     print(coor)"
   ]
  },
  {
   "cell_type": "code",
   "execution_count": 3,
   "id": "cda3f9fa",
   "metadata": {},
   "outputs": [
    {
     "name": "stdout",
     "output_type": "stream",
     "text": [
      "['.', '.', '.', '.', '.', '.', '.', '.', '.', '.']\n",
      "['.', '.', '.', '.', '.', '.', '.', '.', '.', '.']\n",
      "['.', '.', '.', '.', '.', '.', '.', '.', '.', '.']\n",
      "['.', '.', '.', '.', '.', '.', '.', '.', '.', '.']\n",
      "['.', '.', '.', '.', '.', '.', '.', '.', '.', '.']\n",
      "['.', '.', '.', '.', '.', '.', '.', '.', '.', '.']\n",
      "['.', '.', '.', '.', '.', '.', '.', '.', '.', '.']\n",
      "['.', '.', '.', '.', '.', '.', '.', '.', '.', '.']\n",
      "['.', '.', '.', '.', '.', '.', '.', '.', '.', '.']\n",
      "['.', '.', '.', '.', '.', '.', '.', '.', '.', '.']\n"
     ]
    }
   ],
   "source": [
    "# Create diagram\n",
    "\n",
    "diagram = []\n",
    "rows = 10\n",
    "cols = 10\n",
    "\n",
    "for x in range(rows):\n",
    "    diagram.append(list('.'*cols))\n",
    "\n",
    "print(*diagram, sep = \"\\n\")"
   ]
  },
  {
   "cell_type": "code",
   "execution_count": 5,
   "id": "747d2ec2",
   "metadata": {},
   "outputs": [],
   "source": [
    "# import pandas as pd\n",
    "\n",
    "# df = pd.DataFrame(diagram)\n",
    "# df"
   ]
  },
  {
   "cell_type": "code",
   "execution_count": 12,
   "id": "159c9f1d",
   "metadata": {},
   "outputs": [],
   "source": [
    "test_list = [[0,9],[5,9]]\n",
    "\n",
    "\n",
    "def find_line(row):\n",
    "    line = []\n",
    "    x1, y1, x2, y2 = row[0][0], row[0][1], row[1][0], row[1][1]\n",
    "    if y1 == y2:\n",
    "        hi = max(x1,x2)\n",
    "        lo = min(x1,x2)\n",
    "        for i in range(lo,hi+1):\n",
    "            line.append((i, y1))\n",
    "#         print('H ',line)\n",
    "        return line\n",
    "    elif x1 == x2:\n",
    "        hi = max(y1,y2)\n",
    "        lo = min(y1,y2)\n",
    "        for i in range(lo,hi+1):\n",
    "            line.append((x1, i))\n",
    "#         print('V ',line)\n",
    "        return line\n",
    "    else:\n",
    "        return find_diagonal(x1, y1, x2, y2)\n",
    "        \n",
    "line = find_line(test_list)"
   ]
  },
  {
   "cell_type": "code",
   "execution_count": 13,
   "id": "22438261",
   "metadata": {},
   "outputs": [],
   "source": [
    "lines = []\n",
    "for row in coors:\n",
    "    res = find_line(row)\n",
    "    if res:\n",
    "        lines.append(res)"
   ]
  },
  {
   "cell_type": "code",
   "execution_count": 16,
   "id": "1bdbbffd",
   "metadata": {},
   "outputs": [],
   "source": [
    "point_count = {}\n",
    "\n",
    "for line in lines:\n",
    "    for point in line:\n",
    "#         print(point)\n",
    "        if point in point_count:\n",
    "            point_count[point] += 1\n",
    "        else:\n",
    "            point_count[point] = 1\n",
    "            \n",
    "# print(point_count)"
   ]
  },
  {
   "cell_type": "code",
   "execution_count": 17,
   "id": "cda3c398",
   "metadata": {},
   "outputs": [
    {
     "name": "stdout",
     "output_type": "stream",
     "text": [
      "danger_points:  18065\n"
     ]
    }
   ],
   "source": [
    "d = dict((k, v) for k, v in point_count.items() if v >= 2)\n",
    "# print(d)\n",
    "print('danger_points: ',len(d))"
   ]
  },
  {
   "cell_type": "markdown",
   "id": "465c71a0",
   "metadata": {},
   "source": [
    "### Part 2"
   ]
  },
  {
   "cell_type": "code",
   "execution_count": 11,
   "id": "1ed1a231",
   "metadata": {},
   "outputs": [],
   "source": [
    "def find_diagonal(x1, y1, x2, y2):\n",
    "    \n",
    "    max_y = max(y1,y2)\n",
    "    min_y = min(y1,y2)\n",
    "    max_x = max(x1,x2)\n",
    "    min_x = min(x1,x2)\n",
    "    \n",
    "    if x1 < x2:\n",
    "        x_chng = 1\n",
    "    elif x1 > x2:\n",
    "        x_chng = -1\n",
    "    else:\n",
    "        x_chng = 0\n",
    "        \n",
    "    if y1 < y2:\n",
    "        y_chng = 1\n",
    "    elif y1 > y2:\n",
    "        y_chng = -1\n",
    "    else:\n",
    "        y_chng = 0\n",
    "    \n",
    "    x = x1\n",
    "    y = y1\n",
    "    line = []\n",
    "    \n",
    "#     print(x, x_chng)\n",
    "#     print(y, y_chng)\n",
    "    \n",
    "    for i in range(min_x,max_x+1):\n",
    "#         print(x,y)\n",
    "        line.append((x,y))\n",
    "        x += x_chng\n",
    "        y += y_chng\n",
    "#     print('D ',line)\n",
    "    return line\n",
    "        \n"
   ]
  },
  {
   "cell_type": "code",
   "execution_count": null,
   "id": "91a9fa7b",
   "metadata": {},
   "outputs": [],
   "source": [
    "test_list = [(1,1),(3,3)]\n",
    "# test_list = [(9,7),(7,9)]\n",
    "\n",
    "x1 = test_list[0][0]\n",
    "y1 = test_list[0][1]\n",
    "x2 = test_list[1][0]\n",
    "y2 = test_list[1][1]\n",
    "\n",
    "line = find_diagonal(x1, y1, x2, y2)"
   ]
  },
  {
   "cell_type": "code",
   "execution_count": null,
   "id": "f499d174",
   "metadata": {},
   "outputs": [],
   "source": []
  }
 ],
 "metadata": {
  "kernelspec": {
   "display_name": "Python 3 (ipykernel)",
   "language": "python",
   "name": "python3"
  },
  "language_info": {
   "codemirror_mode": {
    "name": "ipython",
    "version": 3
   },
   "file_extension": ".py",
   "mimetype": "text/x-python",
   "name": "python",
   "nbconvert_exporter": "python",
   "pygments_lexer": "ipython3",
   "version": "3.8.10"
  }
 },
 "nbformat": 4,
 "nbformat_minor": 5
}
